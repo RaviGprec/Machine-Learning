{
  "nbformat": 4,
  "nbformat_minor": 0,
  "metadata": {
    "colab": {
      "name": "Recurssive feature Elimination.ipynb",
      "version": "0.3.2",
      "provenance": [],
      "collapsed_sections": [],
      "include_colab_link": true
    },
    "kernelspec": {
      "name": "python3",
      "display_name": "Python 3"
    }
  },
  "cells": [
    {
      "cell_type": "markdown",
      "metadata": {
        "id": "view-in-github",
        "colab_type": "text"
      },
      "source": [
        "<a href=\"https://colab.research.google.com/github/RaviGprec/Machine-Learning/blob/master/Recurssive_feature_Elimination.ipynb\" target=\"_parent\"><img src=\"https://colab.research.google.com/assets/colab-badge.svg\" alt=\"Open In Colab\"/></a>"
      ]
    },
    {
      "metadata": {
        "id": "5tPXhrZmyncS",
        "colab_type": "code",
        "colab": {}
      },
      "cell_type": "code",
      "source": [
        "import pandas as pd\n",
        "import numpy as np\n",
        "from sklearn import datasets\n",
        "from sklearn.feature_selection import RFE\n",
        "\n",
        "dataset = datasets.load_breast_cancer()\n",
        "\n",
        "X =  dataset.data"
      ],
      "execution_count": 0,
      "outputs": []
    },
    {
      "metadata": {
        "id": "ixyrWoSAzjVJ",
        "colab_type": "code",
        "colab": {
          "base_uri": "https://localhost:8080/",
          "height": 34
        },
        "outputId": "56caa119-013d-448a-e632-9c3619772442"
      },
      "cell_type": "code",
      "source": [
        "X.shape\n"
      ],
      "execution_count": 3,
      "outputs": [
        {
          "output_type": "execute_result",
          "data": {
            "text/plain": [
              "(569, 30)"
            ]
          },
          "metadata": {
            "tags": []
          },
          "execution_count": 3
        }
      ]
    },
    {
      "metadata": {
        "id": "yEW57XrVxVfI",
        "colab_type": "code",
        "colab": {}
      },
      "cell_type": "code",
      "source": [
        "Y = dataset.target"
      ],
      "execution_count": 0,
      "outputs": []
    },
    {
      "metadata": {
        "id": "VE03bcg7ygNd",
        "colab_type": "code",
        "colab": {
          "base_uri": "https://localhost:8080/",
          "height": 34
        },
        "outputId": "70041a51-2a79-4980-df63-11d56a87cc5a"
      },
      "cell_type": "code",
      "source": [
        "Y.shape"
      ],
      "execution_count": 6,
      "outputs": [
        {
          "output_type": "execute_result",
          "data": {
            "text/plain": [
              "(569,)"
            ]
          },
          "metadata": {
            "tags": []
          },
          "execution_count": 6
        }
      ]
    },
    {
      "metadata": {
        "id": "Ia1AgaH3zEGs",
        "colab_type": "code",
        "colab": {}
      },
      "cell_type": "code",
      "source": [
        "from sklearn.model_selection import train_test_split\n",
        "\n",
        "X,x_test,Y,y_test = train_test_split(X,Y, test_size= 0.3,train_size=0.7)"
      ],
      "execution_count": 0,
      "outputs": []
    },
    {
      "metadata": {
        "id": "aZAzZJTDzr5n",
        "colab_type": "code",
        "colab": {}
      },
      "cell_type": "code",
      "source": [
        "from sklearn.ensemble import RandomForestClassifier\n",
        "\n",
        "rfc = RandomForestClassifier(random_state= 40)"
      ],
      "execution_count": 0,
      "outputs": []
    },
    {
      "metadata": {
        "id": "R-8xePa8zsBC",
        "colab_type": "code",
        "colab": {
          "base_uri": "https://localhost:8080/",
          "height": 153
        },
        "outputId": "524d1365-6db8-4799-b80f-22059902a848"
      },
      "cell_type": "code",
      "source": [
        "rfc.fit(X,Y)"
      ],
      "execution_count": 13,
      "outputs": [
        {
          "output_type": "stream",
          "text": [
            "/usr/local/lib/python3.6/dist-packages/sklearn/ensemble/forest.py:246: FutureWarning: The default value of n_estimators will change from 10 in version 0.20 to 100 in 0.22.\n",
            "  \"10 in version 0.20 to 100 in 0.22.\", FutureWarning)\n"
          ],
          "name": "stderr"
        },
        {
          "output_type": "execute_result",
          "data": {
            "text/plain": [
              "RandomForestClassifier(bootstrap=True, class_weight=None, criterion='gini',\n",
              "            max_depth=None, max_features='auto', max_leaf_nodes=None,\n",
              "            min_impurity_decrease=0.0, min_impurity_split=None,\n",
              "            min_samples_leaf=1, min_samples_split=2,\n",
              "            min_weight_fraction_leaf=0.0, n_estimators=10, n_jobs=None,\n",
              "            oob_score=False, random_state=40, verbose=0, warm_start=False)"
            ]
          },
          "metadata": {
            "tags": []
          },
          "execution_count": 13
        }
      ]
    },
    {
      "metadata": {
        "id": "k5iz1lt8zneG",
        "colab_type": "code",
        "colab": {
          "base_uri": "https://localhost:8080/",
          "height": 153
        },
        "outputId": "015a4abc-d661-4ff1-96a7-663a6e84ca4a"
      },
      "cell_type": "code",
      "source": [
        "rfc.predict(x_test)"
      ],
      "execution_count": 14,
      "outputs": [
        {
          "output_type": "execute_result",
          "data": {
            "text/plain": [
              "array([1, 0, 0, 0, 1, 1, 1, 1, 1, 1, 0, 1, 1, 1, 0, 1, 1, 0, 1, 1, 0, 1,\n",
              "       1, 0, 0, 1, 1, 1, 1, 1, 1, 0, 1, 0, 1, 0, 1, 0, 1, 1, 1, 0, 1, 0,\n",
              "       1, 0, 1, 0, 0, 0, 1, 1, 0, 1, 0, 1, 1, 1, 1, 0, 0, 0, 0, 1, 1, 0,\n",
              "       1, 0, 0, 1, 1, 0, 1, 0, 0, 0, 1, 1, 1, 0, 0, 0, 0, 0, 0, 1, 1, 1,\n",
              "       1, 1, 1, 1, 1, 0, 1, 1, 0, 1, 1, 0, 1, 0, 0, 0, 1, 1, 0, 1, 1, 0,\n",
              "       1, 0, 0, 0, 1, 1, 1, 0, 0, 1, 0, 0, 1, 1, 1, 0, 0, 1, 1, 0, 0, 0,\n",
              "       1, 0, 0, 1, 0, 1, 0, 1, 1, 0, 0, 0, 0, 1, 1, 1, 1, 1, 1, 1, 1, 1,\n",
              "       0, 1, 1, 1, 0, 0, 1, 0, 0, 1, 0, 0, 0, 0, 0, 1, 0])"
            ]
          },
          "metadata": {
            "tags": []
          },
          "execution_count": 14
        }
      ]
    },
    {
      "metadata": {
        "id": "i9ovMelj20L0",
        "colab_type": "code",
        "colab": {}
      },
      "cell_type": "code",
      "source": [
        "from sklearn.metrics import confusion_matrix,accuracy_score\n",
        "import seaborn as sns"
      ],
      "execution_count": 0,
      "outputs": []
    },
    {
      "metadata": {
        "id": "qoKLI1tv20Yh",
        "colab_type": "code",
        "colab": {
          "base_uri": "https://localhost:8080/",
          "height": 34
        },
        "outputId": "b02873a3-7829-430b-d3a9-61aa721a6dcd"
      },
      "cell_type": "code",
      "source": [
        "print(accuracy_score(y_test, rfc.predict(x_test)))"
      ],
      "execution_count": 17,
      "outputs": [
        {
          "output_type": "stream",
          "text": [
            "0.9415204678362573\n"
          ],
          "name": "stdout"
        }
      ]
    },
    {
      "metadata": {
        "id": "BZaNo70q3VDQ",
        "colab_type": "code",
        "colab": {
          "base_uri": "https://localhost:8080/",
          "height": 286
        },
        "outputId": "8cd3aadb-6320-4f23-e2a0-2306643a0f66"
      },
      "cell_type": "code",
      "source": [
        "cm = confusion_matrix(y_test,rfc.predict(x_test))\n",
        "sns.heatmap(cm,annot=True,fmt=\"d\")"
      ],
      "execution_count": 20,
      "outputs": [
        {
          "output_type": "execute_result",
          "data": {
            "text/plain": [
              "<matplotlib.axes._subplots.AxesSubplot at 0x7f56e76295c0>"
            ]
          },
          "metadata": {
            "tags": []
          },
          "execution_count": 20
        },
        {
          "output_type": "display_data",
          "data": {
            "image/png": "[encoded data removed]",
            "text/plain": [
              "<Figure size 432x288 with 2 Axes>"
            ]
          },
          "metadata": {
            "tags": []
          }
        }
      ]
    },
    {
      "metadata": {
        "id": "DIBgBgN06gbb",
        "colab_type": "text"
      },
      "cell_type": "markdown",
      "source": [
        "## Recursive feature elimination (RFE) with random forest\n"
      ]
    },
    {
      "metadata": {
        "id": "ArPn3DCx7jPA",
        "colab_type": "code",
        "colab": {}
      },
      "cell_type": "code",
      "source": [
        "#converting numpy array to pandas dataframe\n",
        "\n",
        "X = pd.DataFrame.from_records(X)"
      ],
      "execution_count": 0,
      "outputs": []
    },
    {
      "metadata": {
        "id": "EWuPhcs66eKC",
        "colab_type": "code",
        "colab": {}
      },
      "cell_type": "code",
      "source": [
        "from sklearn.feature_selection import RFE\n",
        "rfe  = RFE(estimator=rfc,n_features_to_select=5,step=1)\n",
        "rfe  = rfe.fit(X,Y)\n"
      ],
      "execution_count": 0,
      "outputs": []
    },
    {
      "metadata": {
        "id": "q-XELg6S7899",
        "colab_type": "code",
        "colab": {
          "base_uri": "https://localhost:8080/",
          "height": 34
        },
        "outputId": "e8cfbe7b-70b6-49de-e49b-1870668a59d5"
      },
      "cell_type": "code",
      "source": [
        "print(\"Chosen best 5 features using RFE: \", X.columns[rfe.support_])"
      ],
      "execution_count": 27,
      "outputs": [
        {
          "output_type": "stream",
          "text": [
            "Chosen best 5 features using RFE:  Int64Index([7, 20, 22, 23, 27], dtype='int64')\n"
          ],
          "name": "stdout"
        }
      ]
    },
    {
      "metadata": {
        "id": "mvJmPjNY86k5",
        "colab_type": "text"
      },
      "cell_type": "markdown",
      "source": [
        "Chosen 5 best features by rfe are column numbers [7,20,22,23,27]. Lets see how many feature we need to use with rfecv method."
      ]
    },
    {
      "metadata": {
        "id": "zU122DDA85_p",
        "colab_type": "code",
        "colab": {}
      },
      "cell_type": "code",
      "source": [
        ""
      ],
      "execution_count": 0,
      "outputs": []
    },
    {
      "metadata": {
        "id": "IqK8SATY8ezp",
        "colab_type": "text"
      },
      "cell_type": "markdown",
      "source": [
        "## Recursive feature elimination with cross validation and random forest classification"
      ]
    },
    {
      "metadata": {
        "id": "GaW6pw-e9iXn",
        "colab_type": "text"
      },
      "cell_type": "markdown",
      "source": [
        "Now we will not only find best features but we also find how many features do we need for best accuracy."
      ]
    },
    {
      "metadata": {
        "id": "6_xWp_1l8gVx",
        "colab_type": "code",
        "colab": {}
      },
      "cell_type": "code",
      "source": [
        "from sklearn.feature_selection import RFECV\n",
        "rfecv  = RFECV(estimator=rfc,cv=5,step=1,scoring = \"accuracy\")\n",
        "rfecv  = rfecv.fit(X,Y)\n"
      ],
      "execution_count": 0,
      "outputs": []
    },
    {
      "metadata": {
        "id": "zcJ-Lt9D9n2X",
        "colab_type": "code",
        "colab": {
          "base_uri": "https://localhost:8080/",
          "height": 85
        },
        "outputId": "1a4ab70a-05fd-4d7e-d1fd-91fb44884109"
      },
      "cell_type": "code",
      "source": [
        "print('Optimal number of features :', rfecv.n_features_)\n",
        "print('Best features :', X.columns[rfecv.support_])"
      ],
      "execution_count": 31,
      "outputs": [
        {
          "output_type": "stream",
          "text": [
            "Optimal number of features : 30\n",
            "Best features : Int64Index([ 0,  1,  2,  3,  4,  5,  6,  7,  8,  9, 10, 11, 12, 13, 14, 15, 16,\n",
            "            17, 18, 19, 20, 21, 22, 23, 24, 25, 26, 27, 28, 29],\n",
            "           dtype='int64')\n"
          ],
          "name": "stdout"
        }
      ]
    },
    {
      "metadata": {
        "id": "mtLhEnKS99yS",
        "colab_type": "text"
      },
      "cell_type": "markdown",
      "source": [
        "It is surprising that optimal number of features are \"all the features \". Let see the graph between accuracy and no.features"
      ]
    },
    {
      "metadata": {
        "id": "SFKKw60I-O-_",
        "colab_type": "code",
        "colab": {
          "base_uri": "https://localhost:8080/",
          "height": 304
        },
        "outputId": "727aa4ef-5edf-4d24-8672-503a602a67dd"
      },
      "cell_type": "code",
      "source": [
        "import matplotlib.pyplot as plt\n",
        "plt.figure()\n",
        "plt.xlabel(\"Number of features selected\")\n",
        "plt.ylabel(\"Cross validation score of number of selected features\")\n",
        "plt.plot(range(1, len(rfecv.grid_scores_) + 1), rfecv.grid_scores_)\n",
        "plt.show()"
      ],
      "execution_count": 32,
      "outputs": [
        {
          "output_type": "display_data",
          "data": {
            "image/png": "[encoded data removed]",
            "text/plain": [
              "<Figure size 432x288 with 1 Axes>"
            ]
          },
          "metadata": {
            "tags": []
          }
        }
      ]
    },
    {
      "metadata": {
        "id": "Rey7V21k_CSl",
        "colab_type": "text"
      },
      "cell_type": "markdown",
      "source": [
        "We can also try another method for feature selction "
      ]
    },
    {
      "metadata": {
        "id": "8PDPW3HF_LDb",
        "colab_type": "text"
      },
      "cell_type": "markdown",
      "source": [
        "## Tree based feature selection and random forest classification"
      ]
    },
    {
      "metadata": {
        "id": "LdFGTs3W_SJq",
        "colab_type": "text"
      },
      "cell_type": "markdown",
      "source": [
        "\n",
        "http://scikit-learn.org/stable/modules/generated/sklearn.ensemble.RandomForestClassifier.html In random forest classification method there is a featureimportances attributes that is the** feature importances** (the higher, the more important the feature). !!! To use** feature_importance** method, in training data there should not be correlated features. Random forest choose randomly at each iteration, therefore sequence of feature importance list can change."
      ]
    },
    {
      "metadata": {
        "id": "x-cYacsP_NoD",
        "colab_type": "code",
        "colab": {
          "base_uri": "https://localhost:8080/",
          "height": 1334
        },
        "outputId": "ab025126-eb2e-466c-a001-3b52fb07c4a7"
      },
      "cell_type": "code",
      "source": [
        "clf_rf_5 = RandomForestClassifier()      \n",
        "clr_rf_5 = clf_rf_5.fit(X,Y)\n",
        "importances = clr_rf_5.feature_importances_\n",
        "std = np.std([tree.feature_importances_ for tree in clf_rf_5.estimators_],\n",
        "             axis=0)\n",
        "indices = np.argsort(importances)[::-1]\n",
        "\n",
        "# Print the feature ranking\n",
        "print(\"Feature ranking:\")\n",
        "\n",
        "for f in range(X.shape[1]):\n",
        "    print(\"%d. feature %d (%f)\" % (f + 1, indices[f], importances[indices[f]]))\n",
        "\n",
        "# Plot the feature importances of the forest\n",
        "\n",
        "plt.figure(1, figsize=(14, 13))\n",
        "plt.title(\"Feature importances\")\n",
        "plt.bar(range(X.shape[1]), importances[indices],\n",
        "       color=\"g\", yerr=std[indices], align=\"center\")\n",
        "plt.xticks(range(X.shape[1]), X.columns[indices],rotation=90)\n",
        "plt.xlim([-1, X.shape[1]])\n",
        "plt.show()"
      ],
      "execution_count": 35,
      "outputs": [
        {
          "output_type": "stream",
          "text": [
            "/usr/local/lib/python3.6/dist-packages/sklearn/ensemble/forest.py:246: FutureWarning: The default value of n_estimators will change from 10 in version 0.20 to 100 in 0.22.\n",
            "  \"10 in version 0.20 to 100 in 0.22.\", FutureWarning)\n"
          ],
          "name": "stderr"
        },
        {
          "output_type": "stream",
          "text": [
            "Feature ranking:\n",
            "1. feature 7 (0.234912)\n",
            "2. feature 22 (0.169631)\n",
            "3. feature 27 (0.104029)\n",
            "4. feature 3 (0.086136)\n",
            "5. feature 20 (0.070706)\n",
            "6. feature 6 (0.067806)\n",
            "7. feature 0 (0.065680)\n",
            "8. feature 21 (0.034203)\n",
            "9. feature 25 (0.028903)\n",
            "10. feature 29 (0.020916)\n",
            "11. feature 10 (0.014845)\n",
            "12. feature 28 (0.012941)\n",
            "13. feature 23 (0.012350)\n",
            "14. feature 13 (0.009834)\n",
            "15. feature 14 (0.009067)\n",
            "16. feature 4 (0.008642)\n",
            "17. feature 19 (0.007963)\n",
            "18. feature 26 (0.007671)\n",
            "19. feature 24 (0.007058)\n",
            "20. feature 17 (0.004683)\n",
            "21. feature 16 (0.004441)\n",
            "22. feature 12 (0.004267)\n",
            "23. feature 2 (0.004058)\n",
            "24. feature 8 (0.003226)\n",
            "25. feature 18 (0.002521)\n",
            "26. feature 9 (0.001015)\n",
            "27. feature 15 (0.000944)\n",
            "28. feature 5 (0.000792)\n",
            "29. feature 11 (0.000737)\n",
            "30. feature 1 (0.000024)\n"
          ],
          "name": "stdout"
        },
        {
          "output_type": "display_data",
          "data": {
            "image/png": "[encoded data removed]",
            "text/plain": [
              "<Figure size 1008x936 with 1 Axes>"
            ]
          },
          "metadata": {
            "tags": []
          }
        }
      ]
    }
  ]
}
