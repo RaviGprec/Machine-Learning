{
  "nbformat": 4,
  "nbformat_minor": 0,
  "metadata": {
    "colab": {
      "name": "trivago_competition.ipynb",
      "version": "0.3.2",
      "provenance": [],
      "collapsed_sections": [],
      "include_colab_link": true
    },
    "kernelspec": {
      "name": "python3",
      "display_name": "Python 3"
    }
  },
  "cells": [
    {
      "cell_type": "markdown",
      "metadata": {
        "id": "view-in-github",
        "colab_type": "text"
      },
      "source": [
        "<a href=\"https://colab.research.google.com/github/RaviGprec/Machine-Learning/blob/master/trivago_competition.ipynb\" target=\"_parent\"><img src=\"https://colab.research.google.com/assets/colab-badge.svg\" alt=\"Open In Colab\"/></a>"
      ]
    },
    {
      "cell_type": "code",
      "metadata": {
        "id": "IZY2U-65hcMw",
        "colab_type": "code",
        "outputId": "d3cfbf7f-c154-4a96-8fe5-72f2161afdf4",
        "colab": {
          "base_uri": "https://localhost:8080/",
          "height": 218
        }
      },
      "source": [
        "import numpy as np\n",
        "import pandas as pd\n",
        "import matplotlib.pyplot as plt\n",
        "\n",
        "train_df = pd.read_csv(\"train_set.csv\", encoding = \"utf-8\")\n",
        "train_df.head()"
      ],
      "execution_count": 86,
      "outputs": [
        {
          "output_type": "execute_result",
          "data": {
            "text/html": [
              "<div>\n",
              "<style scoped>\n",
              "    .dataframe tbody tr th:only-of-type {\n",
              "        vertical-align: middle;\n",
              "    }\n",
              "\n",
              "    .dataframe tbody tr th {\n",
              "        vertical-align: top;\n",
              "    }\n",
              "\n",
              "    .dataframe thead th {\n",
              "        text-align: right;\n",
              "    }\n",
              "</style>\n",
              "<table border=\"1\" class=\"dataframe\">\n",
              "  <thead>\n",
              "    <tr style=\"text-align: right;\">\n",
              "      <th></th>\n",
              "      <th>hotel_id</th>\n",
              "      <th>city_id</th>\n",
              "      <th>content_score</th>\n",
              "      <th>n_images</th>\n",
              "      <th>distance_to_center</th>\n",
              "      <th>avg_rating</th>\n",
              "      <th>stars</th>\n",
              "      <th>n_reviews</th>\n",
              "      <th>avg_rank</th>\n",
              "      <th>avg_price</th>\n",
              "      <th>avg_saving_percent</th>\n",
              "      <th>n_clicks</th>\n",
              "    </tr>\n",
              "  </thead>\n",
              "  <tbody>\n",
              "    <tr>\n",
              "      <th>0</th>\n",
              "      <td>9.767406e+10</td>\n",
              "      <td>134520.0</td>\n",
              "      <td>70.0</td>\n",
              "      <td>2.0</td>\n",
              "      <td>1199.0</td>\n",
              "      <td>77.0</td>\n",
              "      <td>4.0</td>\n",
              "      <td>861.0</td>\n",
              "      <td>17.550</td>\n",
              "      <td>81.64</td>\n",
              "      <td>18.0</td>\n",
              "      <td>0</td>\n",
              "    </tr>\n",
              "    <tr>\n",
              "      <th>1</th>\n",
              "      <td>9.768889e+10</td>\n",
              "      <td>133876.0</td>\n",
              "      <td>67.0</td>\n",
              "      <td>3.0</td>\n",
              "      <td>12585.0</td>\n",
              "      <td>90.0</td>\n",
              "      <td>4.0</td>\n",
              "      <td>4371.0</td>\n",
              "      <td>17.383</td>\n",
              "      <td>189.38</td>\n",
              "      <td>28.0</td>\n",
              "      <td>4</td>\n",
              "    </tr>\n",
              "    <tr>\n",
              "      <th>2</th>\n",
              "      <td>9.811544e+10</td>\n",
              "      <td>133732.0</td>\n",
              "      <td>39.0</td>\n",
              "      <td>3.0</td>\n",
              "      <td>23491.0</td>\n",
              "      <td>83.0</td>\n",
              "      <td>3.0</td>\n",
              "      <td>1005.0</td>\n",
              "      <td>16.438</td>\n",
              "      <td>57.63</td>\n",
              "      <td>27.0</td>\n",
              "      <td>44</td>\n",
              "    </tr>\n",
              "    <tr>\n",
              "      <th>3</th>\n",
              "      <td>9.824279e+10</td>\n",
              "      <td>43772.0</td>\n",
              "      <td>59.0</td>\n",
              "      <td>8.0</td>\n",
              "      <td>3291.0</td>\n",
              "      <td>73.0</td>\n",
              "      <td>2.0</td>\n",
              "      <td>3084.0</td>\n",
              "      <td>7.000</td>\n",
              "      <td>72.16</td>\n",
              "      <td>2.0</td>\n",
              "      <td>4</td>\n",
              "    </tr>\n",
              "    <tr>\n",
              "      <th>4</th>\n",
              "      <td>9.833438e+10</td>\n",
              "      <td>50532.0</td>\n",
              "      <td>66.0</td>\n",
              "      <td>1.0</td>\n",
              "      <td>288.0</td>\n",
              "      <td>80.0</td>\n",
              "      <td>0.0</td>\n",
              "      <td>603.0</td>\n",
              "      <td>12.564</td>\n",
              "      <td>173.25</td>\n",
              "      <td>0.0</td>\n",
              "      <td>10</td>\n",
              "    </tr>\n",
              "  </tbody>\n",
              "</table>\n",
              "</div>"
            ],
            "text/plain": [
              "       hotel_id   city_id  ...  avg_saving_percent  n_clicks\n",
              "0  9.767406e+10  134520.0  ...                18.0         0\n",
              "1  9.768889e+10  133876.0  ...                28.0         4\n",
              "2  9.811544e+10  133732.0  ...                27.0        44\n",
              "3  9.824279e+10   43772.0  ...                 2.0         4\n",
              "4  9.833438e+10   50532.0  ...                 0.0        10\n",
              "\n",
              "[5 rows x 12 columns]"
            ]
          },
          "metadata": {
            "tags": []
          },
          "execution_count": 86
        }
      ]
    },
    {
      "cell_type": "code",
      "metadata": {
        "id": "vJPgvBF0iF_L",
        "colab_type": "code",
        "outputId": "856d7a6a-f408-49f9-badb-f826df1a76c7",
        "colab": {
          "base_uri": "https://localhost:8080/",
          "height": 218
        }
      },
      "source": [
        "test_df = pd.read_csv(\"test_set.csv\", encoding = \"utf-8\")\n",
        "test_df.head()"
      ],
      "execution_count": 87,
      "outputs": [
        {
          "output_type": "execute_result",
          "data": {
            "text/html": [
              "<div>\n",
              "<style scoped>\n",
              "    .dataframe tbody tr th:only-of-type {\n",
              "        vertical-align: middle;\n",
              "    }\n",
              "\n",
              "    .dataframe tbody tr th {\n",
              "        vertical-align: top;\n",
              "    }\n",
              "\n",
              "    .dataframe thead th {\n",
              "        text-align: right;\n",
              "    }\n",
              "</style>\n",
              "<table border=\"1\" class=\"dataframe\">\n",
              "  <thead>\n",
              "    <tr style=\"text-align: right;\">\n",
              "      <th></th>\n",
              "      <th>hotel_id</th>\n",
              "      <th>city_id</th>\n",
              "      <th>content_score</th>\n",
              "      <th>n_images</th>\n",
              "      <th>distance_to_center</th>\n",
              "      <th>avg_rating</th>\n",
              "      <th>stars</th>\n",
              "      <th>n_reviews</th>\n",
              "      <th>avg_rank</th>\n",
              "      <th>avg_price</th>\n",
              "      <th>avg_saving_percent</th>\n",
              "    </tr>\n",
              "  </thead>\n",
              "  <tbody>\n",
              "    <tr>\n",
              "      <th>0</th>\n",
              "      <td>14942256073</td>\n",
              "      <td>122750.0</td>\n",
              "      <td>58.0</td>\n",
              "      <td>2.0</td>\n",
              "      <td>11503.0</td>\n",
              "      <td>89.0</td>\n",
              "      <td>0.0</td>\n",
              "      <td>168.0</td>\n",
              "      <td>13.500</td>\n",
              "      <td>90.19</td>\n",
              "      <td>32.0</td>\n",
              "    </tr>\n",
              "    <tr>\n",
              "      <th>1</th>\n",
              "      <td>16036037903</td>\n",
              "      <td>28134.0</td>\n",
              "      <td>68.0</td>\n",
              "      <td>4.0</td>\n",
              "      <td>938.0</td>\n",
              "      <td>81.0</td>\n",
              "      <td>5.0</td>\n",
              "      <td>735.0</td>\n",
              "      <td>13.667</td>\n",
              "      <td>98.27</td>\n",
              "      <td>19.0</td>\n",
              "    </tr>\n",
              "    <tr>\n",
              "      <th>2</th>\n",
              "      <td>288585940112</td>\n",
              "      <td>30578.0</td>\n",
              "      <td>19.0</td>\n",
              "      <td>0.0</td>\n",
              "      <td>38982.0</td>\n",
              "      <td>NaN</td>\n",
              "      <td>0.0</td>\n",
              "      <td>0.0</td>\n",
              "      <td>20.462</td>\n",
              "      <td>48.77</td>\n",
              "      <td>0.0</td>\n",
              "    </tr>\n",
              "    <tr>\n",
              "      <th>3</th>\n",
              "      <td>129041645070</td>\n",
              "      <td>54398.0</td>\n",
              "      <td>47.0</td>\n",
              "      <td>0.0</td>\n",
              "      <td>1683.0</td>\n",
              "      <td>80.0</td>\n",
              "      <td>0.0</td>\n",
              "      <td>69.0</td>\n",
              "      <td>15.000</td>\n",
              "      <td>72.32</td>\n",
              "      <td>0.0</td>\n",
              "    </tr>\n",
              "    <tr>\n",
              "      <th>4</th>\n",
              "      <td>12460296563</td>\n",
              "      <td>63890.0</td>\n",
              "      <td>59.0</td>\n",
              "      <td>3.0</td>\n",
              "      <td>1299.0</td>\n",
              "      <td>80.0</td>\n",
              "      <td>3.0</td>\n",
              "      <td>1470.0</td>\n",
              "      <td>10.000</td>\n",
              "      <td>24.54</td>\n",
              "      <td>19.0</td>\n",
              "    </tr>\n",
              "  </tbody>\n",
              "</table>\n",
              "</div>"
            ],
            "text/plain": [
              "       hotel_id   city_id  ...  avg_price  avg_saving_percent\n",
              "0   14942256073  122750.0  ...      90.19                32.0\n",
              "1   16036037903   28134.0  ...      98.27                19.0\n",
              "2  288585940112   30578.0  ...      48.77                 0.0\n",
              "3  129041645070   54398.0  ...      72.32                 0.0\n",
              "4   12460296563   63890.0  ...      24.54                19.0\n",
              "\n",
              "[5 rows x 11 columns]"
            ]
          },
          "metadata": {
            "tags": []
          },
          "execution_count": 87
        }
      ]
    },
    {
      "cell_type": "code",
      "metadata": {
        "id": "Wv2mxRwWi6wf",
        "colab_type": "code",
        "outputId": "e1ee417d-87ca-4884-bae6-b03dd062ff26",
        "colab": {
          "base_uri": "https://localhost:8080/",
          "height": 54
        }
      },
      "source": [
        "print(\"Train_set shape : \", train_df.shape)\n",
        "print(\"Test_set shape : \", test_df.shape)"
      ],
      "execution_count": 88,
      "outputs": [
        {
          "output_type": "stream",
          "text": [
            "Train_set shape :  (396487, 12)\n",
            "Test_set shape :  (132162, 11)\n"
          ],
          "name": "stdout"
        }
      ]
    },
    {
      "cell_type": "code",
      "metadata": {
        "id": "s0k3JuAmiF5y",
        "colab_type": "code",
        "outputId": "a8143106-3a9d-43eb-923f-d99c04b4446b",
        "colab": {
          "base_uri": "https://localhost:8080/",
          "height": 254
        }
      },
      "source": [
        "train_df.isnull().sum()"
      ],
      "execution_count": 89,
      "outputs": [
        {
          "output_type": "execute_result",
          "data": {
            "text/plain": [
              "hotel_id                   0\n",
              "city_id                  508\n",
              "content_score            508\n",
              "n_images                 509\n",
              "distance_to_center       529\n",
              "avg_rating            110398\n",
              "stars                    562\n",
              "n_reviews                529\n",
              "avg_rank                   0\n",
              "avg_price                170\n",
              "avg_saving_percent       170\n",
              "n_clicks                   0\n",
              "dtype: int64"
            ]
          },
          "metadata": {
            "tags": []
          },
          "execution_count": 89
        }
      ]
    },
    {
      "cell_type": "code",
      "metadata": {
        "id": "taxChzHjkGQ0",
        "colab_type": "code",
        "outputId": "914e4fae-4333-4832-c4d4-0d171d755673",
        "colab": {
          "base_uri": "https://localhost:8080/",
          "height": 308
        }
      },
      "source": [
        "test_df.info()"
      ],
      "execution_count": 90,
      "outputs": [
        {
          "output_type": "stream",
          "text": [
            "<class 'pandas.core.frame.DataFrame'>\n",
            "RangeIndex: 132162 entries, 0 to 132161\n",
            "Data columns (total 11 columns):\n",
            "hotel_id              132162 non-null int64\n",
            "city_id               132007 non-null float64\n",
            "content_score         132007 non-null float64\n",
            "n_images              132006 non-null float64\n",
            "distance_to_center    131999 non-null float64\n",
            "avg_rating            95532 non-null float64\n",
            "stars                 131987 non-null float64\n",
            "n_reviews             131999 non-null float64\n",
            "avg_rank              132162 non-null float64\n",
            "avg_price             132104 non-null float64\n",
            "avg_saving_percent    132104 non-null float64\n",
            "dtypes: float64(10), int64(1)\n",
            "memory usage: 11.1 MB\n"
          ],
          "name": "stdout"
        }
      ]
    },
    {
      "cell_type": "code",
      "metadata": {
        "id": "l_Ye5MTAvZ4w",
        "colab_type": "code",
        "outputId": "faacdbd5-fe7a-47f8-adb1-9947b37dc258",
        "colab": {
          "base_uri": "https://localhost:8080/",
          "height": 145
        }
      },
      "source": [
        "train_df['stars'].value_counts()"
      ],
      "execution_count": 91,
      "outputs": [
        {
          "output_type": "execute_result",
          "data": {
            "text/plain": [
              "0.0    251082\n",
              "3.0     65848\n",
              "4.0     40635\n",
              "2.0     24726\n",
              "5.0      8992\n",
              "1.0      4642\n",
              "Name: stars, dtype: int64"
            ]
          },
          "metadata": {
            "tags": []
          },
          "execution_count": 91
        }
      ]
    },
    {
      "cell_type": "code",
      "metadata": {
        "id": "D34LdqJHObaJ",
        "colab_type": "code",
        "colab": {}
      },
      "source": [
        "train_df['stars'].fillna(0, inplace=True)"
      ],
      "execution_count": 0,
      "outputs": []
    },
    {
      "cell_type": "code",
      "metadata": {
        "id": "Uaer-iaIPeSM",
        "colab_type": "code",
        "colab": {
          "base_uri": "https://localhost:8080/",
          "height": 145
        },
        "outputId": "7d8a9db1-658d-4e31-a48f-87f3cf999182"
      },
      "source": [
        "train_df['stars'].value_counts()"
      ],
      "execution_count": 93,
      "outputs": [
        {
          "output_type": "execute_result",
          "data": {
            "text/plain": [
              "0.0    251644\n",
              "3.0     65848\n",
              "4.0     40635\n",
              "2.0     24726\n",
              "5.0      8992\n",
              "1.0      4642\n",
              "Name: stars, dtype: int64"
            ]
          },
          "metadata": {
            "tags": []
          },
          "execution_count": 93
        }
      ]
    },
    {
      "cell_type": "code",
      "metadata": {
        "id": "hn9KioohNSrM",
        "colab_type": "code",
        "colab": {
          "base_uri": "https://localhost:8080/",
          "height": 1000
        },
        "outputId": "d70bb161-1d32-4a81-99a7-26150d13f55c"
      },
      "source": [
        "train_df['city_id'].value_counts()"
      ],
      "execution_count": 94,
      "outputs": [
        {
          "output_type": "execute_result",
          "data": {
            "text/plain": [
              "50168.0     2489\n",
              "44470.0     1676\n",
              "34798.0     1583\n",
              "30576.0     1367\n",
              "26874.0     1134\n",
              "31786.0      985\n",
              "46884.0      974\n",
              "53604.0      848\n",
              "63440.0      845\n",
              "7696.0       835\n",
              "53222.0      819\n",
              "55122.0      796\n",
              "133754.0     772\n",
              "29468.0      772\n",
              "133876.0     754\n",
              "123898.0     725\n",
              "131850.0     719\n",
              "27256.0      708\n",
              "54398.0      673\n",
              "52704.0      667\n",
              "53758.0      664\n",
              "49958.0      640\n",
              "142924.0     630\n",
              "54372.0      607\n",
              "52278.0      558\n",
              "54646.0      549\n",
              "30150.0      545\n",
              "41066.0      537\n",
              "31804.0      518\n",
              "27266.0      510\n",
              "            ... \n",
              "382072.0       1\n",
              "764162.0       1\n",
              "764172.0       1\n",
              "737312.0       1\n",
              "763992.0       1\n",
              "764212.0       1\n",
              "47764.0        1\n",
              "23884.0        1\n",
              "7640.0         1\n",
              "764312.0       1\n",
              "764332.0       1\n",
              "764012.0       1\n",
              "763972.0       1\n",
              "763642.0       1\n",
              "763782.0       1\n",
              "381822.0       1\n",
              "456192.0       1\n",
              "763652.0       1\n",
              "40720.0        1\n",
              "763692.0       1\n",
              "763772.0       1\n",
              "44312.0        1\n",
              "763962.0       1\n",
              "763842.0       1\n",
              "381922.0       1\n",
              "763852.0       1\n",
              "190964.0       1\n",
              "763902.0       1\n",
              "381972.0       1\n",
              "2.0            1\n",
              "Name: city_id, Length: 33213, dtype: int64"
            ]
          },
          "metadata": {
            "tags": []
          },
          "execution_count": 94
        }
      ]
    },
    {
      "cell_type": "code",
      "metadata": {
        "id": "QntwP-WaNrj5",
        "colab_type": "code",
        "colab": {}
      },
      "source": [
        "train_df['city_id'].fillna(50168, inplace= True)"
      ],
      "execution_count": 0,
      "outputs": []
    },
    {
      "cell_type": "code",
      "metadata": {
        "id": "UifscnENNrZB",
        "colab_type": "code",
        "colab": {
          "base_uri": "https://localhost:8080/",
          "height": 1000
        },
        "outputId": "70f6fd65-0cff-426e-9451-baeb5938530a"
      },
      "source": [
        "train_df['city_id'].value_counts()"
      ],
      "execution_count": 96,
      "outputs": [
        {
          "output_type": "execute_result",
          "data": {
            "text/plain": [
              "50168.0     2997\n",
              "44470.0     1676\n",
              "34798.0     1583\n",
              "30576.0     1367\n",
              "26874.0     1134\n",
              "31786.0      985\n",
              "46884.0      974\n",
              "53604.0      848\n",
              "63440.0      845\n",
              "7696.0       835\n",
              "53222.0      819\n",
              "55122.0      796\n",
              "133754.0     772\n",
              "29468.0      772\n",
              "133876.0     754\n",
              "123898.0     725\n",
              "131850.0     719\n",
              "27256.0      708\n",
              "54398.0      673\n",
              "52704.0      667\n",
              "53758.0      664\n",
              "49958.0      640\n",
              "142924.0     630\n",
              "54372.0      607\n",
              "52278.0      558\n",
              "54646.0      549\n",
              "30150.0      545\n",
              "41066.0      537\n",
              "31804.0      518\n",
              "27266.0      510\n",
              "            ... \n",
              "382072.0       1\n",
              "764162.0       1\n",
              "764172.0       1\n",
              "737312.0       1\n",
              "763992.0       1\n",
              "764212.0       1\n",
              "47764.0        1\n",
              "23884.0        1\n",
              "7640.0         1\n",
              "764312.0       1\n",
              "764332.0       1\n",
              "764012.0       1\n",
              "763972.0       1\n",
              "763642.0       1\n",
              "763782.0       1\n",
              "381822.0       1\n",
              "456192.0       1\n",
              "763652.0       1\n",
              "40720.0        1\n",
              "763692.0       1\n",
              "763772.0       1\n",
              "44312.0        1\n",
              "763962.0       1\n",
              "763842.0       1\n",
              "381922.0       1\n",
              "763852.0       1\n",
              "190964.0       1\n",
              "763902.0       1\n",
              "381972.0       1\n",
              "2.0            1\n",
              "Name: city_id, Length: 33213, dtype: int64"
            ]
          },
          "metadata": {
            "tags": []
          },
          "execution_count": 96
        }
      ]
    },
    {
      "cell_type": "code",
      "metadata": {
        "id": "tLQ9E3bCvizp",
        "colab_type": "code",
        "colab": {
          "base_uri": "https://localhost:8080/",
          "height": 1000
        },
        "outputId": "13041eda-9439-4c32-d7e3-ff088cbcf753"
      },
      "source": [
        "train_df['n_images'].value_counts()"
      ],
      "execution_count": 97,
      "outputs": [
        {
          "output_type": "execute_result",
          "data": {
            "text/plain": [
              " 0.0          186356\n",
              " 1.0           76913\n",
              " 2.0           52389\n",
              " 3.0           29851\n",
              " 4.0           18404\n",
              " 5.0           10647\n",
              " 6.0            6346\n",
              " 7.0            3933\n",
              "-1.0            3361\n",
              " 8.0            2471\n",
              " 9.0            1555\n",
              " 10.0           1047\n",
              " 11.0            658\n",
              " 12.0            467\n",
              " 13.0            311\n",
              " 14.0            224\n",
              " 15.0            151\n",
              " 16.0            112\n",
              " 17.0             82\n",
              " 18.0             75\n",
              " 19.0             63\n",
              " 20.0             58\n",
              " 21.0             43\n",
              " 22.0             35\n",
              " 23.0             23\n",
              " 25.0             19\n",
              " 24.0             16\n",
              " 26.0             13\n",
              " 28.0             11\n",
              " 30.0              9\n",
              "               ...  \n",
              " 51177.0           1\n",
              " 1642262.0         1\n",
              " 1644432.0         1\n",
              " 103044.0          1\n",
              " 407134.0          1\n",
              " 206184.0          1\n",
              " 51619.0           1\n",
              " 1654706.0         1\n",
              " 207505.0          1\n",
              " 103770.0          1\n",
              " 104066.0          1\n",
              " 51004.0           1\n",
              " 6330.0            1\n",
              " 1492899.0         1\n",
              " 190.0             1\n",
              " 1493345.0         1\n",
              " 187937.0          1\n",
              " 5941.0            1\n",
              " 1544912.0         1\n",
              " 24202.0           1\n",
              " 70.0              1\n",
              " 60.0              1\n",
              " 24859.0           1\n",
              " 24416.0           1\n",
              " 46.0              1\n",
              " 392494.0          1\n",
              " 49426.0           1\n",
              " 792199.0          1\n",
              " 49691.0           1\n",
              " 1330733.0         1\n",
              "Name: n_images, Length: 318, dtype: int64"
            ]
          },
          "metadata": {
            "tags": []
          },
          "execution_count": 97
        }
      ]
    },
    {
      "cell_type": "code",
      "metadata": {
        "id": "y22yQXujRBP8",
        "colab_type": "code",
        "colab": {}
      },
      "source": [
        "train_df['n_images'].fillna(0, inplace=True)"
      ],
      "execution_count": 0,
      "outputs": []
    },
    {
      "cell_type": "code",
      "metadata": {
        "id": "T7T5fWMxRNnT",
        "colab_type": "code",
        "colab": {
          "base_uri": "https://localhost:8080/",
          "height": 1000
        },
        "outputId": "c29435be-a867-421d-f4f6-7b961dfd8104"
      },
      "source": [
        "train_df['n_reviews'].value_counts()"
      ],
      "execution_count": 99,
      "outputs": [
        {
          "output_type": "execute_result",
          "data": {
            "text/plain": [
              "0.0        109869\n",
              "60.0         3830\n",
              "63.0         3582\n",
              "66.0         3550\n",
              "69.0         3254\n",
              "72.0         3225\n",
              "75.0         2974\n",
              "78.0         2934\n",
              "81.0         2748\n",
              "84.0         2720\n",
              "87.0         2560\n",
              "90.0         2521\n",
              "93.0         2462\n",
              "96.0         2308\n",
              "102.0        2203\n",
              "99.0         2169\n",
              "108.0        2058\n",
              "105.0        2007\n",
              "114.0        1977\n",
              "111.0        1922\n",
              "117.0        1912\n",
              "120.0        1892\n",
              "126.0        1827\n",
              "132.0        1806\n",
              "129.0        1800\n",
              "123.0        1777\n",
              "135.0        1701\n",
              "138.0        1658\n",
              "141.0        1588\n",
              "156.0        1535\n",
              "            ...  \n",
              "46719.0         1\n",
              "23358.0         1\n",
              "11673.0         1\n",
              "16326.0         1\n",
              "23322.0         1\n",
              "23319.0         1\n",
              "23313.0         1\n",
              "23298.0         1\n",
              "46590.0         1\n",
              "23445.0         1\n",
              "16314.0         1\n",
              "13632.0         1\n",
              "11814.0         1\n",
              "11841.0         1\n",
              "11832.0         1\n",
              "25266.0         1\n",
              "11829.0         1\n",
              "16302.0         1\n",
              "11823.0         1\n",
              "23631.0         1\n",
              "18312.0         1\n",
              "23511.0         1\n",
              "12750.0         1\n",
              "11799.0         1\n",
              "15432.0         1\n",
              "11781.0         1\n",
              "23559.0         1\n",
              "14532.0         1\n",
              "47070.0         1\n",
              "13680.0         1\n",
              "Name: n_reviews, Length: 5817, dtype: int64"
            ]
          },
          "metadata": {
            "tags": []
          },
          "execution_count": 99
        }
      ]
    },
    {
      "cell_type": "code",
      "metadata": {
        "id": "t6Or_CSMRUgI",
        "colab_type": "code",
        "colab": {}
      },
      "source": [
        "train_df['n_reviews'].fillna(0, inplace=True)"
      ],
      "execution_count": 0,
      "outputs": []
    },
    {
      "cell_type": "code",
      "metadata": {
        "id": "wRVDObfnRhMw",
        "colab_type": "code",
        "colab": {
          "base_uri": "https://localhost:8080/",
          "height": 35
        },
        "outputId": "bb12ff36-ad38-4b9b-8662-754721c2409f"
      },
      "source": [
        "train_df['distance_to_center'].mean()"
      ],
      "execution_count": 101,
      "outputs": [
        {
          "output_type": "execute_result",
          "data": {
            "text/plain": [
              "16343.827620606226"
            ]
          },
          "metadata": {
            "tags": []
          },
          "execution_count": 101
        }
      ]
    },
    {
      "cell_type": "code",
      "metadata": {
        "id": "IKF2U5_oiFuI",
        "colab_type": "code",
        "colab": {}
      },
      "source": [
        "distance_to_center = train_df['distance_to_center'].mean()\n",
        "content_score = train_df['content_score'].mean()\n",
        "avg_rating = train_df['avg_rating'].mean()\n",
        "avg_price= train_df['avg_price'].mean()\n",
        "avg_saving_percent = train_df['avg_saving_percent'].mean()\n",
        "\n",
        "train_df['distance_to_center'].fillna(distance_to_center, inplace = True)\n",
        "train_df['content_score'].fillna(content_score, inplace = True)\n",
        "train_df['avg_rating'].fillna(avg_rating, inplace = True)\n",
        "train_df['avg_price'].fillna(avg_price, inplace = True)\n",
        "train_df['avg_saving_percent'].fillna(avg_saving_percent, inplace = True)"
      ],
      "execution_count": 0,
      "outputs": []
    },
    {
      "cell_type": "code",
      "metadata": {
        "id": "sq89R-75zKTx",
        "colab_type": "code",
        "colab": {
          "base_uri": "https://localhost:8080/",
          "height": 35
        },
        "outputId": "9613005a-0754-4efb-bbc0-e54dbd2e3c8e"
      },
      "source": [
        "distance_to_center"
      ],
      "execution_count": 103,
      "outputs": [
        {
          "output_type": "execute_result",
          "data": {
            "text/plain": [
              "16343.827620606226"
            ]
          },
          "metadata": {
            "tags": []
          },
          "execution_count": 103
        }
      ]
    },
    {
      "cell_type": "code",
      "metadata": {
        "id": "3tfhFFIXtHth",
        "colab_type": "code",
        "outputId": "603bba23-43e1-40e9-a80d-f45297354083",
        "colab": {
          "base_uri": "https://localhost:8080/",
          "height": 254
        }
      },
      "source": [
        "train_df.isnull().sum()"
      ],
      "execution_count": 104,
      "outputs": [
        {
          "output_type": "execute_result",
          "data": {
            "text/plain": [
              "hotel_id              0\n",
              "city_id               0\n",
              "content_score         0\n",
              "n_images              0\n",
              "distance_to_center    0\n",
              "avg_rating            0\n",
              "stars                 0\n",
              "n_reviews             0\n",
              "avg_rank              0\n",
              "avg_price             0\n",
              "avg_saving_percent    0\n",
              "n_clicks              0\n",
              "dtype: int64"
            ]
          },
          "metadata": {
            "tags": []
          },
          "execution_count": 104
        }
      ]
    },
    {
      "cell_type": "code",
      "metadata": {
        "id": "JF9ODC0nM7PB",
        "colab_type": "code",
        "colab": {
          "base_uri": "https://localhost:8080/",
          "height": 35
        },
        "outputId": "79e4a1fb-d30f-4b94-a867-68849ba42848"
      },
      "source": [
        "train_df['city_id'][0]"
      ],
      "execution_count": 105,
      "outputs": [
        {
          "output_type": "execute_result",
          "data": {
            "text/plain": [
              "134520.0"
            ]
          },
          "metadata": {
            "tags": []
          },
          "execution_count": 105
        }
      ]
    },
    {
      "cell_type": "code",
      "metadata": {
        "id": "tBKox5QMtWXR",
        "colab_type": "code",
        "outputId": "8df0d1f7-5104-4770-9d01-eb18d9d25ba1",
        "colab": {
          "base_uri": "https://localhost:8080/",
          "height": 235
        }
      },
      "source": [
        "test_df.isnull().sum()"
      ],
      "execution_count": 106,
      "outputs": [
        {
          "output_type": "execute_result",
          "data": {
            "text/plain": [
              "hotel_id                  0\n",
              "city_id                 155\n",
              "content_score           155\n",
              "n_images                156\n",
              "distance_to_center      163\n",
              "avg_rating            36630\n",
              "stars                   175\n",
              "n_reviews               163\n",
              "avg_rank                  0\n",
              "avg_price                58\n",
              "avg_saving_percent       58\n",
              "dtype: int64"
            ]
          },
          "metadata": {
            "tags": []
          },
          "execution_count": 106
        }
      ]
    },
    {
      "cell_type": "code",
      "metadata": {
        "id": "OQUU83wVYPyZ",
        "colab_type": "code",
        "colab": {}
      },
      "source": [
        ""
      ],
      "execution_count": 0,
      "outputs": []
    },
    {
      "cell_type": "code",
      "metadata": {
        "id": "k5_Q3iD-YHY6",
        "colab_type": "code",
        "colab": {
          "base_uri": "https://localhost:8080/",
          "height": 1000
        },
        "outputId": "8172a934-abe3-481c-9dc4-725e3a834bff"
      },
      "source": [
        "test_df['city_id'].value_counts()"
      ],
      "execution_count": 107,
      "outputs": [
        {
          "output_type": "execute_result",
          "data": {
            "text/plain": [
              "50168.0     793\n",
              "44470.0     537\n",
              "34798.0     506\n",
              "30576.0     373\n",
              "26874.0     338\n",
              "46884.0     334\n",
              "31786.0     321\n",
              "63440.0     313\n",
              "53604.0     296\n",
              "7696.0      276\n",
              "133876.0    262\n",
              "29468.0     256\n",
              "55122.0     255\n",
              "27256.0     247\n",
              "53222.0     245\n",
              "131850.0    239\n",
              "54398.0     233\n",
              "123898.0    233\n",
              "49958.0     232\n",
              "133754.0    230\n",
              "54372.0     227\n",
              "53758.0     226\n",
              "52704.0     224\n",
              "142924.0    196\n",
              "54646.0     195\n",
              "31804.0     187\n",
              "27266.0     177\n",
              "133732.0    176\n",
              "30150.0     173\n",
              "46084.0     167\n",
              "           ... \n",
              "22314.0       1\n",
              "4572.0        1\n",
              "613312.0      1\n",
              "100870.0      1\n",
              "27020.0       1\n",
              "45554.0       1\n",
              "54712.0       1\n",
              "54734.0       1\n",
              "728792.0      1\n",
              "614072.0      1\n",
              "45846.0       1\n",
              "614052.0      1\n",
              "3412.0        1\n",
              "876112.0      1\n",
              "18718.0       1\n",
              "438042.0      1\n",
              "109508.0      1\n",
              "613902.0      1\n",
              "124900.0      1\n",
              "22774.0       1\n",
              "27370.0       1\n",
              "613852.0      1\n",
              "875992.0      1\n",
              "728772.0      1\n",
              "613802.0      1\n",
              "613772.0      1\n",
              "613762.0      1\n",
              "38358.0       1\n",
              "218962.0      1\n",
              "859440.0      1\n",
              "Name: city_id, Length: 20903, dtype: int64"
            ]
          },
          "metadata": {
            "tags": []
          },
          "execution_count": 107
        }
      ]
    },
    {
      "cell_type": "code",
      "metadata": {
        "id": "3rMul59tYp-m",
        "colab_type": "code",
        "colab": {}
      },
      "source": [
        "test_df['city_id'].fillna(50168, inplace=True)"
      ],
      "execution_count": 0,
      "outputs": []
    },
    {
      "cell_type": "code",
      "metadata": {
        "id": "9ZrTA4UQY5VW",
        "colab_type": "code",
        "colab": {
          "base_uri": "https://localhost:8080/",
          "height": 1000
        },
        "outputId": "753c9706-abc6-4e5b-9dad-b30156bb8fe4"
      },
      "source": [
        "test_df['n_images'].value_counts()"
      ],
      "execution_count": 109,
      "outputs": [
        {
          "output_type": "execute_result",
          "data": {
            "text/plain": [
              " 0.0          62284\n",
              " 1.0          26043\n",
              " 2.0          17211\n",
              " 3.0           9910\n",
              " 4.0           6025\n",
              " 5.0           3425\n",
              " 6.0           2063\n",
              " 7.0           1301\n",
              "-1.0           1119\n",
              " 8.0            799\n",
              " 9.0            519\n",
              " 10.0           358\n",
              " 11.0           237\n",
              " 12.0           160\n",
              " 13.0           116\n",
              " 14.0            83\n",
              " 15.0            58\n",
              " 16.0            41\n",
              " 17.0            30\n",
              " 19.0            21\n",
              " 20.0            17\n",
              " 21.0            14\n",
              " 18.0            14\n",
              " 22.0            10\n",
              " 26.0             9\n",
              " 23.0             7\n",
              " 25.0             6\n",
              " 24.0             5\n",
              " 30.0             4\n",
              " 33.0             3\n",
              "              ...  \n",
              " 40.0             1\n",
              " 1321261.0        1\n",
              " 37.0             1\n",
              " 1320568.0        1\n",
              " 76074.0          1\n",
              " 1217447.0        1\n",
              " 152981.0         1\n",
              " 76802.0          1\n",
              " 373040.0         1\n",
              " 76815.0          1\n",
              " 76818.0          1\n",
              " 76840.0          1\n",
              " 64493.0          1\n",
              " 1758324.0        1\n",
              " 1243705.0        1\n",
              " 23597.0          1\n",
              " 79296.0          1\n",
              " 79397.0          1\n",
              " 898426.0         1\n",
              " 79705.0          1\n",
              " 28.0             1\n",
              " 40186.0          1\n",
              " 20218.0          1\n",
              " 40510.0          1\n",
              " 651668.0         1\n",
              " 656581.0         1\n",
              " 2628317.0        1\n",
              " 919424.0         1\n",
              " 922410.0         1\n",
              " 76931.0          1\n",
              "Name: n_images, Length: 138, dtype: int64"
            ]
          },
          "metadata": {
            "tags": []
          },
          "execution_count": 109
        }
      ]
    },
    {
      "cell_type": "code",
      "metadata": {
        "id": "sYCGY2oKZCMY",
        "colab_type": "code",
        "colab": {}
      },
      "source": [
        "test_df['n_images'].fillna(0, inplace=True)"
      ],
      "execution_count": 0,
      "outputs": []
    },
    {
      "cell_type": "code",
      "metadata": {
        "id": "ow5aakebZNsG",
        "colab_type": "code",
        "colab": {
          "base_uri": "https://localhost:8080/",
          "height": 1000
        },
        "outputId": "99558744-02e8-476f-fc36-3eb4bb9f2b00"
      },
      "source": [
        "test_df['n_reviews'].value_counts()"
      ],
      "execution_count": 111,
      "outputs": [
        {
          "output_type": "execute_result",
          "data": {
            "text/plain": [
              "0.0        36467\n",
              "60.0        1330\n",
              "63.0        1230\n",
              "66.0        1142\n",
              "69.0        1102\n",
              "72.0        1102\n",
              "75.0        1046\n",
              "78.0         974\n",
              "81.0         917\n",
              "87.0         895\n",
              "84.0         870\n",
              "90.0         846\n",
              "93.0         814\n",
              "96.0         789\n",
              "99.0         767\n",
              "108.0        711\n",
              "111.0        704\n",
              "105.0        702\n",
              "102.0        686\n",
              "132.0        664\n",
              "114.0        642\n",
              "123.0        630\n",
              "117.0        628\n",
              "120.0        627\n",
              "129.0        597\n",
              "126.0        594\n",
              "138.0        591\n",
              "144.0        586\n",
              "135.0        586\n",
              "141.0        540\n",
              "           ...  \n",
              "12510.0        1\n",
              "13770.0        1\n",
              "13731.0        1\n",
              "27459.0        1\n",
              "15603.0        1\n",
              "19608.0        1\n",
              "9567.0         1\n",
              "14856.0        1\n",
              "11526.0        1\n",
              "9579.0         1\n",
              "9270.0         1\n",
              "7809.0         1\n",
              "17352.0        1\n",
              "9720.0         1\n",
              "27375.0        1\n",
              "19185.0        1\n",
              "38382.0        1\n",
              "13692.0        1\n",
              "15615.0        1\n",
              "9216.0         1\n",
              "19203.0        1\n",
              "9603.0         1\n",
              "13707.0        1\n",
              "19227.0        1\n",
              "9615.0         1\n",
              "11511.0        1\n",
              "19239.0        1\n",
              "7803.0         1\n",
              "14910.0        1\n",
              "16383.0        1\n",
              "Name: n_reviews, Length: 4115, dtype: int64"
            ]
          },
          "metadata": {
            "tags": []
          },
          "execution_count": 111
        }
      ]
    },
    {
      "cell_type": "code",
      "metadata": {
        "id": "EPlGVxCJZg-W",
        "colab_type": "code",
        "colab": {}
      },
      "source": [
        "test_df['n_reviews'].fillna(0, inplace= True)"
      ],
      "execution_count": 0,
      "outputs": []
    },
    {
      "cell_type": "code",
      "metadata": {
        "id": "EADcDNNgZqTj",
        "colab_type": "code",
        "colab": {
          "base_uri": "https://localhost:8080/",
          "height": 145
        },
        "outputId": "7972e6ae-3598-4f3a-e161-6449a24c3a52"
      },
      "source": [
        "test_df['stars'].value_counts()"
      ],
      "execution_count": 113,
      "outputs": [
        {
          "output_type": "execute_result",
          "data": {
            "text/plain": [
              "0.0    83839\n",
              "3.0    22136\n",
              "4.0    13341\n",
              "2.0     8220\n",
              "5.0     2975\n",
              "1.0     1476\n",
              "Name: stars, dtype: int64"
            ]
          },
          "metadata": {
            "tags": []
          },
          "execution_count": 113
        }
      ]
    },
    {
      "cell_type": "code",
      "metadata": {
        "id": "LGkRrIbKZwdv",
        "colab_type": "code",
        "colab": {}
      },
      "source": [
        "test_df['stars'].fillna(0, inplace = True)"
      ],
      "execution_count": 0,
      "outputs": []
    },
    {
      "cell_type": "code",
      "metadata": {
        "id": "Zu7kyw1VtWM-",
        "colab_type": "code",
        "colab": {}
      },
      "source": [
        "test_distance_to_center = test_df['distance_to_center'].mean()\n",
        "test_content_score = test_df['content_score'].mean()\n",
        "test_avg_rating = test_df['avg_rating'].mean()\n",
        "test_avg_price = test_df['avg_price'].mean()\n",
        "test_avg_saving_percent = test_df['avg_saving_percent'].mean()\n",
        "\n",
        "test_df['distance_to_center'].fillna(test_distance_to_center, inplace= True)\n",
        "test_df['content_score'].fillna(test_content_score, inplace= True)\n",
        "test_df['avg_rating'].fillna(test_avg_rating, inplace= True)\n",
        "test_df['avg_price'].fillna(test_avg_price, inplace= True)\n",
        "test_df['avg_saving_percent'].fillna(test_avg_saving_percent, inplace= True)"
      ],
      "execution_count": 0,
      "outputs": []
    },
    {
      "cell_type": "code",
      "metadata": {
        "id": "0_irkCXc0XNy",
        "colab_type": "code",
        "outputId": "3f5c1cc4-fb41-4d11-b5b8-28648afaa25a",
        "colab": {
          "base_uri": "https://localhost:8080/",
          "height": 235
        }
      },
      "source": [
        "test_df.isnull().sum()"
      ],
      "execution_count": 116,
      "outputs": [
        {
          "output_type": "execute_result",
          "data": {
            "text/plain": [
              "hotel_id              0\n",
              "city_id               0\n",
              "content_score         0\n",
              "n_images              0\n",
              "distance_to_center    0\n",
              "avg_rating            0\n",
              "stars                 0\n",
              "n_reviews             0\n",
              "avg_rank              0\n",
              "avg_price             0\n",
              "avg_saving_percent    0\n",
              "dtype: int64"
            ]
          },
          "metadata": {
            "tags": []
          },
          "execution_count": 116
        }
      ]
    },
    {
      "cell_type": "code",
      "metadata": {
        "id": "flxvojn90hVv",
        "colab_type": "code",
        "colab": {
          "base_uri": "https://localhost:8080/",
          "height": 90
        },
        "outputId": "bb4ddf41-b01f-4c25-8a80-5ad5e7055f90"
      },
      "source": [
        "train_df.columns"
      ],
      "execution_count": 117,
      "outputs": [
        {
          "output_type": "execute_result",
          "data": {
            "text/plain": [
              "Index(['hotel_id', 'city_id', 'content_score', 'n_images',\n",
              "       'distance_to_center', 'avg_rating', 'stars', 'n_reviews', 'avg_rank',\n",
              "       'avg_price', 'avg_saving_percent', 'n_clicks'],\n",
              "      dtype='object')"
            ]
          },
          "metadata": {
            "tags": []
          },
          "execution_count": 117
        }
      ]
    },
    {
      "cell_type": "code",
      "metadata": {
        "id": "6rgFNZeU0XKi",
        "colab_type": "code",
        "colab": {}
      },
      "source": [
        "Y = train_df['n_clicks']\n",
        "X = train_df.drop(['n_clicks', 'hotel_id'],axis = 1)"
      ],
      "execution_count": 0,
      "outputs": []
    },
    {
      "cell_type": "code",
      "metadata": {
        "id": "6S7t_3zb0XEW",
        "colab_type": "code",
        "outputId": "78797d53-7bd8-4ac9-d2fe-751a9d85f7d4",
        "colab": {
          "base_uri": "https://localhost:8080/",
          "height": 35
        }
      },
      "source": [
        "print(\"X shape  : \", X.shape)"
      ],
      "execution_count": 119,
      "outputs": [
        {
          "output_type": "stream",
          "text": [
            "X shape  :  (396487, 10)\n"
          ],
          "name": "stdout"
        }
      ]
    },
    {
      "cell_type": "code",
      "metadata": {
        "id": "VN9yOO7X1V-I",
        "colab_type": "code",
        "colab": {}
      },
      "source": [
        "#train_df.to_csv(\"Train_df_cleaned.csv\")"
      ],
      "execution_count": 0,
      "outputs": []
    },
    {
      "cell_type": "code",
      "metadata": {
        "id": "r6ggGRc32QrT",
        "colab_type": "code",
        "colab": {}
      },
      "source": [
        "#test_df.to_csv(\"Test_df_cleaned.csv\")"
      ],
      "execution_count": 0,
      "outputs": []
    },
    {
      "cell_type": "code",
      "metadata": {
        "id": "jT3fURz_kJ8l",
        "colab_type": "code",
        "colab": {}
      },
      "source": [
        "hotel_id = test_df['hotel_id']\n",
        "test_df = test_df.drop(['hotel_id'],axis =1)"
      ],
      "execution_count": 0,
      "outputs": []
    },
    {
      "cell_type": "code",
      "metadata": {
        "id": "jZuiDTSKjzbS",
        "colab_type": "code",
        "colab": {}
      },
      "source": [
        "from sklearn.preprocessing import StandardScaler\n",
        "\n",
        "sc = StandardScaler()\n",
        "X  = sc.fit_transform(X)\n",
        "test_df = sc.transform(test_df)"
      ],
      "execution_count": 0,
      "outputs": []
    },
    {
      "cell_type": "code",
      "metadata": {
        "id": "eKiwWMrU2Qnr",
        "colab_type": "code",
        "colab": {}
      },
      "source": [
        "from sklearn.model_selection import train_test_split\n",
        "\n",
        "x_train, x_test, y_train, y_test = train_test_split(X,Y, test_size = 0.2)"
      ],
      "execution_count": 0,
      "outputs": []
    },
    {
      "cell_type": "code",
      "metadata": {
        "id": "t_5Yjasr2Qhq",
        "colab_type": "code",
        "outputId": "c4cb3e44-4078-42c6-846e-8a6a87d83e83",
        "colab": {
          "base_uri": "https://localhost:8080/",
          "height": 90
        }
      },
      "source": [
        "print(\"x_train shape : \", x_train.shape)\n",
        "print(\"y_train shape : \", y_train.shape)\n",
        "print(\"x_test shape : \", x_test.shape)\n",
        "print(\"y_test shape : \", y_test.shape)"
      ],
      "execution_count": 125,
      "outputs": [
        {
          "output_type": "stream",
          "text": [
            "x_train shape :  (317189, 10)\n",
            "y_train shape :  (317189,)\n",
            "x_test shape :  (79298, 10)\n",
            "y_test shape :  (79298,)\n"
          ],
          "name": "stdout"
        }
      ]
    },
    {
      "cell_type": "code",
      "metadata": {
        "id": "euCcHPcQ5IS-",
        "colab_type": "code",
        "outputId": "06e728f4-d5ed-4c29-efc1-9b896245d733",
        "colab": {
          "base_uri": "https://localhost:8080/",
          "height": 201
        }
      },
      "source": [
        "from sklearn.ensemble import RandomForestRegressor\n",
        "\n",
        "rfr = RandomForestRegressor()\n",
        "rfr.fit(x_train,y_train)"
      ],
      "execution_count": 126,
      "outputs": [
        {
          "output_type": "stream",
          "text": [
            "/usr/local/lib/python3.6/dist-packages/sklearn/ensemble/forest.py:245: FutureWarning: The default value of n_estimators will change from 10 in version 0.20 to 100 in 0.22.\n",
            "  \"10 in version 0.20 to 100 in 0.22.\", FutureWarning)\n"
          ],
          "name": "stderr"
        },
        {
          "output_type": "execute_result",
          "data": {
            "text/plain": [
              "RandomForestRegressor(bootstrap=True, criterion='mse', max_depth=None,\n",
              "                      max_features='auto', max_leaf_nodes=None,\n",
              "                      min_impurity_decrease=0.0, min_impurity_split=None,\n",
              "                      min_samples_leaf=1, min_samples_split=2,\n",
              "                      min_weight_fraction_leaf=0.0, n_estimators=10,\n",
              "                      n_jobs=None, oob_score=False, random_state=None,\n",
              "                      verbose=0, warm_start=False)"
            ]
          },
          "metadata": {
            "tags": []
          },
          "execution_count": 126
        }
      ]
    },
    {
      "cell_type": "code",
      "metadata": {
        "id": "gsHHul5z5J30",
        "colab_type": "code",
        "colab": {}
      },
      "source": [
        "y_pred_rfr = rfr.predict(x_test)\n",
        "y_pred_rfr = roundValues(y_pred_rfr)"
      ],
      "execution_count": 0,
      "outputs": []
    },
    {
      "cell_type": "code",
      "metadata": {
        "id": "j8XewUXHv_aM",
        "colab_type": "code",
        "colab": {
          "base_uri": "https://localhost:8080/",
          "height": 35
        },
        "outputId": "6c4481a7-0396-49b0-ea6d-850556485e27"
      },
      "source": [
        "y_pred_rfr"
      ],
      "execution_count": 128,
      "outputs": [
        {
          "output_type": "execute_result",
          "data": {
            "text/plain": [
              "array([ 21.,  13.,   4., ...,   0., 138.,   0.])"
            ]
          },
          "metadata": {
            "tags": []
          },
          "execution_count": 128
        }
      ]
    },
    {
      "cell_type": "code",
      "metadata": {
        "id": "RzNAzMCDvLYA",
        "colab_type": "code",
        "colab": {}
      },
      "source": [
        "def roundValues(y_pred):\n",
        "  for i in range(len(y_pred)):\n",
        "    if y_pred[i] < 0:\n",
        "      y_pred[i] = 0\n",
        "    else:\n",
        "      continue\n",
        "  return y_pred.round()"
      ],
      "execution_count": 0,
      "outputs": []
    },
    {
      "cell_type": "code",
      "metadata": {
        "id": "UCDZb6GW5Jzw",
        "colab_type": "code",
        "outputId": "456baa61-c171-4018-b7fd-d1775a18c519",
        "colab": {
          "base_uri": "https://localhost:8080/",
          "height": 35
        }
      },
      "source": [
        "from sklearn.metrics import r2_score\n",
        "\n",
        "print(\"training Accuracy : \", r2_score(y_test,y_pred_rfr))"
      ],
      "execution_count": 130,
      "outputs": [
        {
          "output_type": "stream",
          "text": [
            "training Accuracy :  0.2331428734143609\n"
          ],
          "name": "stdout"
        }
      ]
    },
    {
      "cell_type": "code",
      "metadata": {
        "id": "6vTy5_-u8SYh",
        "colab_type": "code",
        "colab": {}
      },
      "source": [
        "from sklearn.linear_model import LinearRegression\n",
        "lr =LinearRegression().fit(x_train,y_train)"
      ],
      "execution_count": 0,
      "outputs": []
    },
    {
      "cell_type": "code",
      "metadata": {
        "id": "NKTxkybc5Jvo",
        "colab_type": "code",
        "colab": {}
      },
      "source": [
        "y_pred_lr = lr.predict(x_test)\n",
        "y_pred_lr = roundValues(y_pred_lr)"
      ],
      "execution_count": 0,
      "outputs": []
    },
    {
      "cell_type": "code",
      "metadata": {
        "id": "Re6phHEv5Jrv",
        "colab_type": "code",
        "outputId": "09c44465-526f-4eda-cc2b-166d30a13c66",
        "colab": {
          "base_uri": "https://localhost:8080/",
          "height": 35
        }
      },
      "source": [
        "print(\"training Accuracy : \", r2_score(y_test,y_pred_lr))"
      ],
      "execution_count": 133,
      "outputs": [
        {
          "output_type": "stream",
          "text": [
            "training Accuracy :  0.05258854822204462\n"
          ],
          "name": "stdout"
        }
      ]
    },
    {
      "cell_type": "code",
      "metadata": {
        "id": "xrsNWgi7-lHk",
        "colab_type": "code",
        "colab": {}
      },
      "source": [
        "from sklearn.metrics import mean_squared_error\n",
        "print(\"Mean Squared Error : \", mean_squared_error(y_test,y_pred_lr))"
      ],
      "execution_count": 0,
      "outputs": []
    },
    {
      "cell_type": "code",
      "metadata": {
        "id": "wse8Cehz_O8h",
        "colab_type": "code",
        "outputId": "2dab46a7-573a-4a85-93db-20bb63408b07",
        "colab": {
          "base_uri": "https://localhost:8080/",
          "height": 219
        }
      },
      "source": [
        "from xgboost import XGBRegressor\n",
        "xgb = XGBRegressor()\n",
        "xgb.fit(x_train,y_train)"
      ],
      "execution_count": 135,
      "outputs": [
        {
          "output_type": "stream",
          "text": [
            "[15:51:43] WARNING: /workspace/src/objective/regression_obj.cu:152: reg:linear is now deprecated in favor of reg:squarederror.\n"
          ],
          "name": "stdout"
        },
        {
          "output_type": "stream",
          "text": [
            "/usr/local/lib/python3.6/dist-packages/xgboost/core.py:587: FutureWarning: Series.base is deprecated and will be removed in a future version\n",
            "  if getattr(data, 'base', None) is not None and \\\n"
          ],
          "name": "stderr"
        },
        {
          "output_type": "execute_result",
          "data": {
            "text/plain": [
              "XGBRegressor(base_score=0.5, booster='gbtree', colsample_bylevel=1,\n",
              "             colsample_bynode=1, colsample_bytree=1, gamma=0,\n",
              "             importance_type='gain', learning_rate=0.1, max_delta_step=0,\n",
              "             max_depth=3, min_child_weight=1, missing=None, n_estimators=100,\n",
              "             n_jobs=1, nthread=None, objective='reg:linear', random_state=0,\n",
              "             reg_alpha=0, reg_lambda=1, scale_pos_weight=1, seed=None,\n",
              "             silent=None, subsample=1, verbosity=1)"
            ]
          },
          "metadata": {
            "tags": []
          },
          "execution_count": 135
        }
      ]
    },
    {
      "cell_type": "code",
      "metadata": {
        "id": "FSSqdwlYCWH6",
        "colab_type": "code",
        "colab": {}
      },
      "source": [
        "y_pred_xgb = xgb.predict(x_test)\n",
        "y_pred_xgb = roundValues(y_pred_xgb)"
      ],
      "execution_count": 0,
      "outputs": []
    },
    {
      "cell_type": "code",
      "metadata": {
        "id": "dkcjgcT_tT8w",
        "colab_type": "code",
        "colab": {}
      },
      "source": [
        "#y_pred_xgb = y_pred_xgb.round()"
      ],
      "execution_count": 0,
      "outputs": []
    },
    {
      "cell_type": "code",
      "metadata": {
        "id": "SOmP1Y9Stko-",
        "colab_type": "code",
        "colab": {}
      },
      "source": [
        "#len(y_pred_xgb)\n"
      ],
      "execution_count": 0,
      "outputs": []
    },
    {
      "cell_type": "code",
      "metadata": {
        "id": "H_qwv4wOuHsT",
        "colab_type": "code",
        "colab": {}
      },
      "source": [
        "#y_pred_xgb[1:10]"
      ],
      "execution_count": 0,
      "outputs": []
    },
    {
      "cell_type": "code",
      "metadata": {
        "id": "lYkUicjTChtm",
        "colab_type": "code",
        "outputId": "b56a8121-7c7c-4024-b8fd-069983490f7e",
        "colab": {
          "base_uri": "https://localhost:8080/",
          "height": 35
        }
      },
      "source": [
        "mean_squared_error(y_test,y_pred_xgb)"
      ],
      "execution_count": 139,
      "outputs": [
        {
          "output_type": "execute_result",
          "data": {
            "text/plain": [
              "11922.506998915484"
            ]
          },
          "metadata": {
            "tags": []
          },
          "execution_count": 139
        }
      ]
    },
    {
      "cell_type": "code",
      "metadata": {
        "id": "ZZbZts3ICxOX",
        "colab_type": "code",
        "outputId": "e58a5f47-eae4-4adc-b53f-faf11bf103c7",
        "colab": {
          "base_uri": "https://localhost:8080/",
          "height": 35
        }
      },
      "source": [
        "r2_score(y_test,y_pred_xgb)"
      ],
      "execution_count": 140,
      "outputs": [
        {
          "output_type": "execute_result",
          "data": {
            "text/plain": [
              "0.266267505723332"
            ]
          },
          "metadata": {
            "tags": []
          },
          "execution_count": 140
        }
      ]
    },
    {
      "cell_type": "code",
      "metadata": {
        "id": "5Sd16v5fmLRZ",
        "colab_type": "code",
        "colab": {}
      },
      "source": [
        "## Hyper Parameter Tuning\n",
        "\n",
        "n_estimators = [100, 500, 900, 1100, 1500]\n",
        "max_depth = [2, 3, 5, 10, 15]\n",
        "booster=['gbtree','gblinear']\n",
        "base_score=[0.25,0.5,0.75,1]\n",
        "learning_rate=[0.05,0.1,0.15,0.20]\n",
        "min_child_weight=[1,2,3,4]\n",
        "\n",
        "# Define the grid of hyperparameters to search\n",
        "hyperparameter_grid = {\n",
        "    'n_estimators': n_estimators,\n",
        "    'max_depth':max_depth,\n",
        "    'learning_rate':learning_rate,\n",
        "    'min_child_weight':min_child_weight,\n",
        "    'booster':booster,\n",
        "    'base_score':base_score\n",
        "    }"
      ],
      "execution_count": 0,
      "outputs": []
    },
    {
      "cell_type": "code",
      "metadata": {
        "id": "A5tUsMOzmT94",
        "colab_type": "code",
        "colab": {}
      },
      "source": [
        "#from sklearn.model_selection import RandomizedSearchCV\n",
        "'''random_cv = RandomizedSearchCV(estimator=xgb,\n",
        "            param_distributions=hyperparameter_grid,\n",
        "            cv=5, n_iter=50,\n",
        "            scoring = 'neg_mean_absolute_error',n_jobs = 4,\n",
        "            verbose = 5, \n",
        "            return_train_score = True,\n",
        "            random_state=42)'''"
      ],
      "execution_count": 0,
      "outputs": []
    },
    {
      "cell_type": "code",
      "metadata": {
        "id": "n93xeLqIm5xX",
        "colab_type": "code",
        "colab": {}
      },
      "source": [
        "#random_cv.fit(x_train,y_train)"
      ],
      "execution_count": 0,
      "outputs": []
    },
    {
      "cell_type": "code",
      "metadata": {
        "id": "x2pkiZ8Sb56Z",
        "colab_type": "code",
        "colab": {
          "base_uri": "https://localhost:8080/",
          "height": 292
        },
        "outputId": "c23cae69-7950-4777-f121-7960a342810a"
      },
      "source": [
        "# Importing the Keras libraries and packages\n",
        "import keras\n",
        "from keras.models import Sequential\n",
        "from keras.layers import Dense\n",
        "from keras.layers import LeakyReLU,PReLU,ELU\n",
        "from keras.layers import Dropout\n",
        "\n",
        "\n",
        "# Initialising the ANN\n",
        "classifier = Sequential()\n",
        "\n",
        "# Adding the input layer and the first hidden layer\n",
        "classifier.add(Dense(output_dim = 20,activation='relu',input_dim = 10))\n",
        "\n",
        "# Adding the second hidden layer\n",
        "classifier.add(Dense(output_dim = 20,activation='relu'))\n",
        "\n",
        "# Adding the third hidden layer\n",
        "classifier.add(Dense(output_dim = 10,activation='relu'))\n",
        "# Adding the output layer\n",
        "classifier.add(Dense(output_dim = 1))\n",
        "\n",
        "# Compiling the ANN\n",
        "classifier.compile(loss='mean_squared_error', optimizer='Adamax')\n",
        "\n",
        "\n"
      ],
      "execution_count": 144,
      "outputs": [
        {
          "output_type": "stream",
          "text": [
            "WARNING:tensorflow:From /usr/local/lib/python3.6/dist-packages/keras/backend/tensorflow_backend.py:66: The name tf.get_default_graph is deprecated. Please use tf.compat.v1.get_default_graph instead.\n",
            "\n",
            "WARNING:tensorflow:From /usr/local/lib/python3.6/dist-packages/keras/backend/tensorflow_backend.py:541: The name tf.placeholder is deprecated. Please use tf.compat.v1.placeholder instead.\n",
            "\n",
            "WARNING:tensorflow:From /usr/local/lib/python3.6/dist-packages/keras/backend/tensorflow_backend.py:4432: The name tf.random_uniform is deprecated. Please use tf.random.uniform instead.\n",
            "\n",
            "WARNING:tensorflow:From /usr/local/lib/python3.6/dist-packages/keras/optimizers.py:793: The name tf.train.Optimizer is deprecated. Please use tf.compat.v1.train.Optimizer instead.\n",
            "\n"
          ],
          "name": "stdout"
        },
        {
          "output_type": "stream",
          "text": [
            "/usr/local/lib/python3.6/dist-packages/ipykernel_launcher.py:12: UserWarning: Update your `Dense` call to the Keras 2 API: `Dense(activation=\"relu\", input_dim=10, units=20)`\n",
            "  if sys.path[0] == '':\n",
            "/usr/local/lib/python3.6/dist-packages/ipykernel_launcher.py:15: UserWarning: Update your `Dense` call to the Keras 2 API: `Dense(activation=\"relu\", units=20)`\n",
            "  from ipykernel import kernelapp as app\n",
            "/usr/local/lib/python3.6/dist-packages/ipykernel_launcher.py:18: UserWarning: Update your `Dense` call to the Keras 2 API: `Dense(activation=\"relu\", units=10)`\n",
            "/usr/local/lib/python3.6/dist-packages/ipykernel_launcher.py:20: UserWarning: Update your `Dense` call to the Keras 2 API: `Dense(units=1)`\n"
          ],
          "name": "stderr"
        }
      ]
    },
    {
      "cell_type": "code",
      "metadata": {
        "id": "MF-F6x88hLiw",
        "colab_type": "code",
        "colab": {
          "base_uri": "https://localhost:8080/",
          "height": 1000
        },
        "outputId": "db5398ef-9203-4dc6-f073-b7dee12ceb1d"
      },
      "source": [
        "model_history=classifier.fit(x_train, y_train,validation_split=0.20, batch_size = 10, nb_epoch = 100)"
      ],
      "execution_count": 150,
      "outputs": [
        {
          "output_type": "stream",
          "text": [
            "Train on 253751 samples, validate on 63438 samples\n",
            "Epoch 1/100\n",
            "  1330/253751 [..............................] - ETA: 32s - loss: 10975.0734"
          ],
          "name": "stdout"
        },
        {
          "output_type": "stream",
          "text": [
            "/usr/local/lib/python3.6/dist-packages/ipykernel_launcher.py:1: UserWarning: The `nb_epoch` argument in `fit` has been renamed `epochs`.\n",
            "  \"\"\"Entry point for launching an IPython kernel.\n"
          ],
          "name": "stderr"
        },
        {
          "output_type": "stream",
          "text": [
            "253751/253751 [==============================] - 33s 130us/step - loss: 13400.9869 - val_loss: 9752.4046\n",
            "Epoch 2/100\n",
            "253751/253751 [==============================] - 33s 129us/step - loss: 13321.5340 - val_loss: 9738.7758\n",
            "Epoch 3/100\n",
            "253751/253751 [==============================] - 33s 130us/step - loss: 13240.1307 - val_loss: 9814.6156\n",
            "Epoch 4/100\n",
            "253751/253751 [==============================] - 33s 129us/step - loss: 13156.1270 - val_loss: 9627.3184\n",
            "Epoch 5/100\n",
            "253751/253751 [==============================] - 33s 129us/step - loss: 13079.3488 - val_loss: 10028.3984\n",
            "Epoch 6/100\n",
            "253751/253751 [==============================] - 33s 130us/step - loss: 12987.6609 - val_loss: 9613.6252\n",
            "Epoch 7/100\n",
            "253751/253751 [==============================] - 33s 132us/step - loss: 12946.4386 - val_loss: 9887.8569\n",
            "Epoch 8/100\n",
            "253751/253751 [==============================] - 33s 131us/step - loss: 12869.2067 - val_loss: 9580.9818\n",
            "Epoch 9/100\n",
            "253751/253751 [==============================] - 33s 129us/step - loss: 12840.5707 - val_loss: 9539.2442\n",
            "Epoch 10/100\n",
            "253751/253751 [==============================] - 33s 129us/step - loss: 12789.2871 - val_loss: 9728.8804\n",
            "Epoch 11/100\n",
            "253751/253751 [==============================] - 33s 129us/step - loss: 12699.5368 - val_loss: 9740.2944\n",
            "Epoch 12/100\n",
            "253751/253751 [==============================] - 33s 130us/step - loss: 12659.2396 - val_loss: 9478.3446\n",
            "Epoch 13/100\n",
            "253751/253751 [==============================] - 33s 129us/step - loss: 12672.9423 - val_loss: 9874.4834\n",
            "Epoch 14/100\n",
            "253751/253751 [==============================] - 33s 129us/step - loss: 12575.4293 - val_loss: 9520.5709\n",
            "Epoch 15/100\n",
            "253751/253751 [==============================] - 33s 129us/step - loss: 12528.2878 - val_loss: 9513.0231\n",
            "Epoch 16/100\n",
            "253751/253751 [==============================] - 34s 133us/step - loss: 12503.2538 - val_loss: 9368.4931\n",
            "Epoch 17/100\n",
            "253751/253751 [==============================] - 33s 131us/step - loss: 12506.4667 - val_loss: 9363.6608\n",
            "Epoch 18/100\n",
            "253751/253751 [==============================] - 33s 129us/step - loss: 12390.4396 - val_loss: 9383.2727\n",
            "Epoch 19/100\n",
            "253751/253751 [==============================] - 33s 129us/step - loss: 12396.6004 - val_loss: 9349.3869\n",
            "Epoch 20/100\n",
            "253751/253751 [==============================] - 32s 128us/step - loss: 12411.1594 - val_loss: 9339.9093\n",
            "Epoch 21/100\n",
            "253751/253751 [==============================] - 33s 129us/step - loss: 12338.6072 - val_loss: 9282.7816\n",
            "Epoch 22/100\n",
            "253751/253751 [==============================] - 33s 128us/step - loss: 12335.1210 - val_loss: 9267.4014\n",
            "Epoch 23/100\n",
            "253751/253751 [==============================] - 33s 130us/step - loss: 12327.5814 - val_loss: 9305.3289\n",
            "Epoch 24/100\n",
            "253751/253751 [==============================] - 33s 130us/step - loss: 12324.5571 - val_loss: 9342.2091\n",
            "Epoch 25/100\n",
            "253751/253751 [==============================] - 33s 132us/step - loss: 12310.8324 - val_loss: 9376.5410\n",
            "Epoch 26/100\n",
            "253751/253751 [==============================] - 33s 131us/step - loss: 12293.0416 - val_loss: 9466.9568\n",
            "Epoch 27/100\n",
            "253751/253751 [==============================] - 33s 132us/step - loss: 12252.8203 - val_loss: 9281.2299\n",
            "Epoch 28/100\n",
            "253751/253751 [==============================] - 33s 129us/step - loss: 12218.0050 - val_loss: 9305.7883\n",
            "Epoch 29/100\n",
            "253751/253751 [==============================] - 33s 129us/step - loss: 12201.3207 - val_loss: 9447.9819\n",
            "Epoch 30/100\n",
            "253751/253751 [==============================] - 33s 130us/step - loss: 12217.9054 - val_loss: 9267.9300\n",
            "Epoch 31/100\n",
            "253751/253751 [==============================] - 33s 130us/step - loss: 12252.8685 - val_loss: 9647.9662\n",
            "Epoch 32/100\n",
            "253751/253751 [==============================] - 33s 129us/step - loss: 12195.7403 - val_loss: 9492.6693\n",
            "Epoch 33/100\n",
            "253751/253751 [==============================] - 33s 128us/step - loss: 12168.8998 - val_loss: 9309.5759\n",
            "Epoch 34/100\n",
            "253751/253751 [==============================] - 33s 129us/step - loss: 12148.1546 - val_loss: 9344.1431\n",
            "Epoch 35/100\n",
            "253751/253751 [==============================] - 34s 133us/step - loss: 12168.4635 - val_loss: 9355.2653\n",
            "Epoch 36/100\n",
            "253751/253751 [==============================] - 33s 131us/step - loss: 12128.2673 - val_loss: 9269.5543\n",
            "Epoch 37/100\n",
            "253751/253751 [==============================] - 33s 129us/step - loss: 12178.2579 - val_loss: 9788.4589\n",
            "Epoch 38/100\n",
            "253751/253751 [==============================] - 33s 129us/step - loss: 12121.9380 - val_loss: 9305.9498\n",
            "Epoch 39/100\n",
            "253751/253751 [==============================] - 33s 129us/step - loss: 12101.4950 - val_loss: 10436.0033\n",
            "Epoch 40/100\n",
            "253751/253751 [==============================] - 33s 130us/step - loss: 12115.4971 - val_loss: 9288.1141\n",
            "Epoch 41/100\n",
            "253751/253751 [==============================] - 33s 129us/step - loss: 12107.5655 - val_loss: 9265.2007\n",
            "Epoch 42/100\n",
            "253751/253751 [==============================] - 33s 129us/step - loss: 12146.5706 - val_loss: 9287.5644\n",
            "Epoch 43/100\n",
            "253751/253751 [==============================] - 33s 129us/step - loss: 12105.2977 - val_loss: 10101.3906\n",
            "Epoch 44/100\n",
            "253751/253751 [==============================] - 33s 132us/step - loss: 12049.7555 - val_loss: 9248.6603\n",
            "Epoch 45/100\n",
            "253751/253751 [==============================] - 34s 132us/step - loss: 12123.1220 - val_loss: 9258.3715\n",
            "Epoch 46/100\n",
            "253751/253751 [==============================] - 33s 130us/step - loss: 12126.3470 - val_loss: 9260.0569\n",
            "Epoch 47/100\n",
            "253751/253751 [==============================] - 33s 129us/step - loss: 12064.4307 - val_loss: 9308.7278\n",
            "Epoch 48/100\n",
            "253751/253751 [==============================] - 33s 129us/step - loss: 12041.4648 - val_loss: 9481.8242\n",
            "Epoch 49/100\n",
            "253751/253751 [==============================] - 33s 129us/step - loss: 12016.9736 - val_loss: 9281.2919\n",
            "Epoch 50/100\n",
            "253751/253751 [==============================] - 33s 128us/step - loss: 12068.2601 - val_loss: 9340.5024\n",
            "Epoch 51/100\n",
            "253751/253751 [==============================] - 33s 129us/step - loss: 12052.6779 - val_loss: 9379.9102\n",
            "Epoch 52/100\n",
            "253751/253751 [==============================] - 33s 129us/step - loss: 12036.6407 - val_loss: 9351.8754\n",
            "Epoch 53/100\n",
            "253751/253751 [==============================] - 33s 129us/step - loss: 11976.5093 - val_loss: 9242.8571\n",
            "Epoch 54/100\n",
            "253751/253751 [==============================] - 33s 132us/step - loss: 12022.1097 - val_loss: 9800.6083\n",
            "Epoch 55/100\n",
            "253751/253751 [==============================] - 33s 131us/step - loss: 11966.5360 - val_loss: 9372.6938\n",
            "Epoch 56/100\n",
            "253751/253751 [==============================] - 33s 128us/step - loss: 11981.8543 - val_loss: 9391.9317\n",
            "Epoch 57/100\n",
            "253751/253751 [==============================] - 33s 129us/step - loss: 12019.6432 - val_loss: 9673.8379\n",
            "Epoch 58/100\n",
            "253751/253751 [==============================] - 33s 129us/step - loss: 11984.3688 - val_loss: 9406.2922\n",
            "Epoch 59/100\n",
            "253751/253751 [==============================] - 33s 129us/step - loss: 12012.0370 - val_loss: 9389.9560\n",
            "Epoch 60/100\n",
            "253751/253751 [==============================] - 33s 129us/step - loss: 11965.8479 - val_loss: 9280.7579\n",
            "Epoch 61/100\n",
            "253751/253751 [==============================] - 33s 130us/step - loss: 11983.2104 - val_loss: 9259.2091\n",
            "Epoch 62/100\n",
            "253751/253751 [==============================] - 33s 129us/step - loss: 11975.5179 - val_loss: 9283.0494\n",
            "Epoch 63/100\n",
            "253751/253751 [==============================] - 33s 132us/step - loss: 12004.7885 - val_loss: 9528.0971\n",
            "Epoch 64/100\n",
            "253751/253751 [==============================] - 33s 131us/step - loss: 11973.0310 - val_loss: 9401.9686\n",
            "Epoch 65/100\n",
            "253751/253751 [==============================] - 33s 129us/step - loss: 12012.7040 - val_loss: 9255.8372\n",
            "Epoch 66/100\n",
            "253751/253751 [==============================] - 33s 129us/step - loss: 11957.5228 - val_loss: 9459.4208\n",
            "Epoch 67/100\n",
            "253751/253751 [==============================] - 33s 128us/step - loss: 11980.6736 - val_loss: 9476.6134\n",
            "Epoch 68/100\n",
            "253751/253751 [==============================] - 32s 128us/step - loss: 11972.9019 - val_loss: 9236.3285\n",
            "Epoch 69/100\n",
            "253751/253751 [==============================] - 33s 129us/step - loss: 11925.7828 - val_loss: 10442.7012\n",
            "Epoch 70/100\n",
            "253751/253751 [==============================] - 32s 128us/step - loss: 11966.9704 - val_loss: 9222.4960\n",
            "Epoch 71/100\n",
            "253751/253751 [==============================] - 33s 128us/step - loss: 11894.6089 - val_loss: 9469.3634\n",
            "Epoch 72/100\n",
            "253751/253751 [==============================] - 32s 128us/step - loss: 12021.4621 - val_loss: 9379.6005\n",
            "Epoch 73/100\n",
            "253751/253751 [==============================] - 33s 132us/step - loss: 11947.8541 - val_loss: 9282.6581\n",
            "Epoch 74/100\n",
            "253751/253751 [==============================] - 33s 130us/step - loss: 11936.5870 - val_loss: 9430.4787\n",
            "Epoch 75/100\n",
            "253751/253751 [==============================] - 33s 129us/step - loss: 11964.5128 - val_loss: 9372.8027\n",
            "Epoch 76/100\n",
            "253751/253751 [==============================] - 33s 128us/step - loss: 11954.6022 - val_loss: 9345.6623\n",
            "Epoch 77/100\n",
            "253751/253751 [==============================] - 33s 128us/step - loss: 11963.6416 - val_loss: 9344.0409\n",
            "Epoch 78/100\n",
            "253751/253751 [==============================] - 33s 128us/step - loss: 11887.0229 - val_loss: 9427.0945\n",
            "Epoch 79/100\n",
            "253751/253751 [==============================] - 33s 128us/step - loss: 11940.0977 - val_loss: 10013.4336\n",
            "Epoch 80/100\n",
            "253751/253751 [==============================] - 32s 127us/step - loss: 11953.7519 - val_loss: 9527.1703\n",
            "Epoch 81/100\n",
            "253751/253751 [==============================] - 33s 129us/step - loss: 11928.8183 - val_loss: 9195.4862\n",
            "Epoch 82/100\n",
            "253751/253751 [==============================] - 33s 132us/step - loss: 11897.8065 - val_loss: 9318.9711\n",
            "Epoch 83/100\n",
            "253751/253751 [==============================] - 33s 131us/step - loss: 11873.0944 - val_loss: 9212.3919\n",
            "Epoch 84/100\n",
            "253751/253751 [==============================] - 33s 128us/step - loss: 11873.5285 - val_loss: 9205.0296\n",
            "Epoch 85/100\n",
            "253751/253751 [==============================] - 33s 129us/step - loss: 11914.2201 - val_loss: 9221.5089\n",
            "Epoch 86/100\n",
            "253751/253751 [==============================] - 32s 128us/step - loss: 11876.5283 - val_loss: 9508.7420\n",
            "Epoch 87/100\n",
            "253751/253751 [==============================] - 32s 127us/step - loss: 11900.0977 - val_loss: 9318.4605\n",
            "Epoch 88/100\n",
            "253751/253751 [==============================] - 32s 128us/step - loss: 11813.0422 - val_loss: 9280.5957\n",
            "Epoch 89/100\n",
            "253751/253751 [==============================] - 32s 128us/step - loss: 11852.3661 - val_loss: 9263.0740\n",
            "Epoch 90/100\n",
            "253751/253751 [==============================] - 33s 129us/step - loss: 11876.2858 - val_loss: 10693.2559\n",
            "Epoch 91/100\n",
            "253751/253751 [==============================] - 33s 129us/step - loss: 11843.3252 - val_loss: 9214.7697\n",
            "Epoch 92/100\n",
            "253751/253751 [==============================] - 34s 134us/step - loss: 11836.7825 - val_loss: 9244.7648\n",
            "Epoch 93/100\n",
            "253751/253751 [==============================] - 33s 128us/step - loss: 11870.2373 - val_loss: 9437.7390\n",
            "Epoch 94/100\n",
            "253751/253751 [==============================] - 33s 128us/step - loss: 11863.9189 - val_loss: 9270.6441\n",
            "Epoch 95/100\n",
            "253751/253751 [==============================] - 32s 128us/step - loss: 11850.3521 - val_loss: 9224.8972\n",
            "Epoch 96/100\n",
            "253751/253751 [==============================] - 33s 129us/step - loss: 11887.1419 - val_loss: 9188.8626\n",
            "Epoch 97/100\n",
            "253751/253751 [==============================] - 33s 129us/step - loss: 11818.4646 - val_loss: 9251.3266\n",
            "Epoch 98/100\n",
            "253751/253751 [==============================] - 33s 128us/step - loss: 11855.5698 - val_loss: 9842.9844\n",
            "Epoch 99/100\n",
            "253751/253751 [==============================] - 32s 128us/step - loss: 11813.8197 - val_loss: 9188.1938\n",
            "Epoch 100/100\n",
            "253751/253751 [==============================] - 32s 128us/step - loss: 11808.2960 - val_loss: 9166.2315\n"
          ],
          "name": "stdout"
        }
      ]
    },
    {
      "cell_type": "code",
      "metadata": {
        "id": "FwGRXXAWhLfg",
        "colab_type": "code",
        "colab": {}
      },
      "source": [
        "y_pred_ann  = classifier.predict(x_test)\n",
        "y_pred_ann = roundValues(y_pred_ann)"
      ],
      "execution_count": 0,
      "outputs": []
    },
    {
      "cell_type": "code",
      "metadata": {
        "id": "hVAlatYjhLcn",
        "colab_type": "code",
        "colab": {
          "base_uri": "https://localhost:8080/",
          "height": 35
        },
        "outputId": "0002baff-6703-4de3-e9b2-f10de4c036e3"
      },
      "source": [
        "mean_squared_error(y_test,y_pred_ann)"
      ],
      "execution_count": 158,
      "outputs": [
        {
          "output_type": "execute_result",
          "data": {
            "text/plain": [
              "12555.70653736538"
            ]
          },
          "metadata": {
            "tags": []
          },
          "execution_count": 158
        }
      ]
    },
    {
      "cell_type": "code",
      "metadata": {
        "id": "q_0vZ5DEr9sq",
        "colab_type": "code",
        "colab": {
          "base_uri": "https://localhost:8080/",
          "height": 35
        },
        "outputId": "9d6cb501-ee3b-4d23-ec6a-135f0ec66a4b"
      },
      "source": [
        "r2_score(y_test, y_pred_ann)"
      ],
      "execution_count": 159,
      "outputs": [
        {
          "output_type": "execute_result",
          "data": {
            "text/plain": [
              "0.2272992688614086"
            ]
          },
          "metadata": {
            "tags": []
          },
          "execution_count": 159
        }
      ]
    },
    {
      "cell_type": "code",
      "metadata": {
        "id": "Yx51XcQdAi3C",
        "colab_type": "code",
        "colab": {}
      },
      "source": [
        "from keras.models import model_from_json\n",
        "Ann_model = classifier.to_json()\n",
        "with open(\"Ann_model.json\", \"w\") as json_file:\n",
        "    json_file.write(Ann_model)\n"
      ],
      "execution_count": 0,
      "outputs": []
    },
    {
      "cell_type": "code",
      "metadata": {
        "id": "a0GTAnDIB3_b",
        "colab_type": "code",
        "colab": {}
      },
      "source": [
        "classifier.save_weights('Ann_model.h5')"
      ],
      "execution_count": 0,
      "outputs": []
    },
    {
      "cell_type": "code",
      "metadata": {
        "id": "6zbRgCM7sU16",
        "colab_type": "code",
        "colab": {}
      },
      "source": [
        "x_train.corr()"
      ],
      "execution_count": 0,
      "outputs": []
    }
  ]
}