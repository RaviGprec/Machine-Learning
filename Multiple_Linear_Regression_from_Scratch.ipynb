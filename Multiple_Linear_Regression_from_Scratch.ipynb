{
  "nbformat": 4,
  "nbformat_minor": 0,
  "metadata": {
    "colab": {
      "name": "Multiple Linear Regression from Scratch.ipynb",
      "provenance": [],
      "collapsed_sections": [],
      "include_colab_link": true
    },
    "kernelspec": {
      "name": "python3",
      "display_name": "Python 3"
    }
  },
  "cells": [
    {
      "cell_type": "markdown",
      "metadata": {
        "id": "view-in-github",
        "colab_type": "text"
      },
      "source": [
        "<a href=\"https://colab.research.google.com/github/RaviGprec/Machine-Learning/blob/master/Multiple_Linear_Regression_from_Scratch.ipynb\" target=\"_parent\"><img src=\"https://colab.research.google.com/assets/colab-badge.svg\" alt=\"Open In Colab\"/></a>"
      ]
    },
    {
      "cell_type": "code",
      "metadata": {
        "id": "oDO-KdqiG3bu",
        "colab_type": "code",
        "colab": {
          "base_uri": "https://localhost:8080/",
          "height": 51
        },
        "outputId": "c728da10-949b-4547-df65-d88255d515b4"
      },
      "source": [
        "import numpy as np\n",
        "import pandas as pd\n",
        "import matplotlib.pyplot as plt\n",
        "import seaborn as sns\n",
        "X = np.random.rand(3,3)\n",
        "X = np.concatenate((np.ones((3,1), dtype=int), X), axis=1) # adding x_0 term for bias\n",
        "Y = np.random.rand(3,1) \n",
        "df_np = np.concatenate((X,Y), axis =1)\n",
        "print(X.shape)\n",
        "print(Y.shape)"
      ],
      "execution_count": 95,
      "outputs": [
        {
          "output_type": "stream",
          "text": [
            "(3, 4)\n",
            "(3, 1)\n"
          ],
          "name": "stdout"
        }
      ]
    },
    {
      "cell_type": "code",
      "metadata": {
        "id": "5NGHIH9SycGB",
        "colab_type": "code",
        "colab": {}
      },
      "source": [
        "df = pd.DataFrame(df_np, columns=[\"x0\",\"x1\",\"x2\",\"x3\",\"y\"])"
      ],
      "execution_count": 0,
      "outputs": []
    },
    {
      "cell_type": "code",
      "metadata": {
        "id": "W380WJzoyyZ7",
        "colab_type": "code",
        "colab": {
          "base_uri": "https://localhost:8080/",
          "height": 142
        },
        "outputId": "75a7bc80-6742-485a-f5dc-22229e8be597"
      },
      "source": [
        "df"
      ],
      "execution_count": 115,
      "outputs": [
        {
          "output_type": "execute_result",
          "data": {
            "text/html": [
              "<div>\n",
              "<style scoped>\n",
              "    .dataframe tbody tr th:only-of-type {\n",
              "        vertical-align: middle;\n",
              "    }\n",
              "\n",
              "    .dataframe tbody tr th {\n",
              "        vertical-align: top;\n",
              "    }\n",
              "\n",
              "    .dataframe thead th {\n",
              "        text-align: right;\n",
              "    }\n",
              "</style>\n",
              "<table border=\"1\" class=\"dataframe\">\n",
              "  <thead>\n",
              "    <tr style=\"text-align: right;\">\n",
              "      <th></th>\n",
              "      <th>x0</th>\n",
              "      <th>x1</th>\n",
              "      <th>x2</th>\n",
              "      <th>x3</th>\n",
              "      <th>y</th>\n",
              "    </tr>\n",
              "  </thead>\n",
              "  <tbody>\n",
              "    <tr>\n",
              "      <th>0</th>\n",
              "      <td>1.0</td>\n",
              "      <td>0.201654</td>\n",
              "      <td>0.029220</td>\n",
              "      <td>0.920355</td>\n",
              "      <td>0.753565</td>\n",
              "    </tr>\n",
              "    <tr>\n",
              "      <th>1</th>\n",
              "      <td>1.0</td>\n",
              "      <td>0.859730</td>\n",
              "      <td>0.852380</td>\n",
              "      <td>0.082837</td>\n",
              "      <td>0.524489</td>\n",
              "    </tr>\n",
              "    <tr>\n",
              "      <th>2</th>\n",
              "      <td>1.0</td>\n",
              "      <td>0.860606</td>\n",
              "      <td>0.795732</td>\n",
              "      <td>0.706299</td>\n",
              "      <td>0.782790</td>\n",
              "    </tr>\n",
              "  </tbody>\n",
              "</table>\n",
              "</div>"
            ],
            "text/plain": [
              "    x0        x1        x2        x3         y\n",
              "0  1.0  0.201654  0.029220  0.920355  0.753565\n",
              "1  1.0  0.859730  0.852380  0.082837  0.524489\n",
              "2  1.0  0.860606  0.795732  0.706299  0.782790"
            ]
          },
          "metadata": {
            "tags": []
          },
          "execution_count": 115
        }
      ]
    },
    {
      "cell_type": "markdown",
      "metadata": {
        "id": "9vtvFYS-3npv",
        "colab_type": "text"
      },
      "source": [
        "x0  is the constant term. "
      ]
    },
    {
      "cell_type": "code",
      "metadata": {
        "id": "Zc06ZwruJpVt",
        "colab_type": "code",
        "colab": {
          "base_uri": "https://localhost:8080/",
          "height": 102
        },
        "outputId": "b24c3eb2-6aa9-40e8-b016-32d8437aa804"
      },
      "source": [
        "W = np.random.rand(4,1) # we need 4 values for W including the bias term(w0) \n",
        "print(\"shape of W :\",W.shape)\n",
        "print( W)"
      ],
      "execution_count": 118,
      "outputs": [
        {
          "output_type": "stream",
          "text": [
            "shape of W : (4, 1)\n",
            "[[0.68307156]\n",
            " [0.327539  ]\n",
            " [0.16352702]\n",
            " [0.15952201]]\n"
          ],
          "name": "stdout"
        }
      ]
    },
    {
      "cell_type": "markdown",
      "metadata": {
        "id": "G9eBMMI-3791",
        "colab_type": "text"
      },
      "source": [
        "Goal is to find the line Y_p = w0.x0 + w1.x1 + w2.x2 + w3.x3 +.....+ wn.xn. In order to the find the best line that can define the relation in the given data, we have to find the optimal values of weights (w0,...,wn). This weight are adjusted by using Gradient Descent Algorithem. "
      ]
    },
    {
      "cell_type": "code",
      "metadata": {
        "id": "34me1gvSVO94",
        "colab_type": "code",
        "colab": {}
      },
      "source": [
        "def cost_function(X,Y,W):\n",
        "  y_p = X.dot(W) \n",
        "  squaredterm = np.power((y_p -Y),2) #(Yp-Ya)^2\n",
        "  return np.sum(squaredterm)/len(X)"
      ],
      "execution_count": 0,
      "outputs": []
    },
    {
      "cell_type": "code",
      "metadata": {
        "id": "q3D5GdzLJTm-",
        "colab_type": "code",
        "colab": {}
      },
      "source": [
        "def gradient_descent(X,Y,W,alpha,n_iters):\n",
        "  cost = np.zeros(n_iters)\n",
        "  for i in range(n_iters):\n",
        "    Y_p = X.dot(W) # y_pred = w0x0 + w1x1 + w2x2 + w3x3 \n",
        "    loss = Y_p - Y\n",
        "    gradient  = 2 * X.T.dot(loss) / len(X) #2x(y_p - y_a)\n",
        "    W = W - alpha * gradient\n",
        "    cost[i] = cost_function(X,Y,W)\n",
        "  return W,cost"
      ],
      "execution_count": 0,
      "outputs": []
    },
    {
      "cell_type": "code",
      "metadata": {
        "id": "k4804MYDvUAa",
        "colab_type": "code",
        "colab": {}
      },
      "source": [
        "def predict(wieghts,x_test):\n",
        "  return x_test.dot(wieghts)"
      ],
      "execution_count": 0,
      "outputs": []
    },
    {
      "cell_type": "code",
      "metadata": {
        "id": "KxXebRqiYBhl",
        "colab_type": "code",
        "colab": {}
      },
      "source": [
        "W_final,cost  = gradient_descent(X,Y,W,0.001,5)\n",
        "x_test  = np.random.rand(1,3)\n",
        "#adding constant to x_test\n",
        "x_test = np.concatenate((np.ones((1,1), dtype=int), x_test), axis=1)\n",
        "y_test = predict(W_final,x_test)\n"
      ],
      "execution_count": 0,
      "outputs": []
    },
    {
      "cell_type": "code",
      "metadata": {
        "id": "ZvQ1SX3fvxMQ",
        "colab_type": "code",
        "colab": {
          "base_uri": "https://localhost:8080/",
          "height": 34
        },
        "outputId": "9168189a-a583-4bbd-877b-22d67589ffd7"
      },
      "source": [
        "y_test"
      ],
      "execution_count": 123,
      "outputs": [
        {
          "output_type": "execute_result",
          "data": {
            "text/plain": [
              "array([[1.0320159]])"
            ]
          },
          "metadata": {
            "tags": []
          },
          "execution_count": 123
        }
      ]
    }
  ]
}