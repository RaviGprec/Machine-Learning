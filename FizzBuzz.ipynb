{
  "nbformat": 4,
  "nbformat_minor": 0,
  "metadata": {
    "colab": {
      "name": "Untitled4.ipynb",
      "version": "0.3.2",
      "provenance": [],
      "include_colab_link": true
    },
    "kernelspec": {
      "name": "python3",
      "display_name": "Python 3"
    }
  },
  "cells": [
    {
      "cell_type": "markdown",
      "metadata": {
        "id": "view-in-github",
        "colab_type": "text"
      },
      "source": [
        "[View in Colaboratory](https://colab.research.google.com/github/RaviGprec/Machine-Learning/blob/master/FizzBuzz.ipynb)"
      ]
    },
    {
      "metadata": {
        "id": "0Eb3ebi-2rCd",
        "colab_type": "code",
        "colab": {}
      },
      "cell_type": "code",
      "source": [
        "from __future__ import absolute_import, division, print_function\n",
        "import tensorflow as tf\n",
        "tf.enable_eager_execution()\n"
      ],
      "execution_count": 0,
      "outputs": []
    },
    {
      "metadata": {
        "id": "ZDHLn13d3bSr",
        "colab_type": "code",
        "colab": {}
      },
      "cell_type": "code",
      "source": [
        "tf.executing_eagerly()\n",
        "x = [[2.]]\n",
        "m = tf.matmul(x,x)\n",
        "print(\"Hello,{} \".format(m))"
      ],
      "execution_count": 0,
      "outputs": []
    },
    {
      "metadata": {
        "id": "ji7fHEgu4f8u",
        "colab_type": "code",
        "colab": {}
      },
      "cell_type": "code",
      "source": [
        "a = tf.constant([[1,2],[3,4]])\n",
        "b = tf.add(a,1)\n",
        "print(a,\"\\n\", b)\n",
        "#using numpy\n",
        "import numpy as np\n",
        "c = np.multiply(a, b)\n",
        "print(c)\n",
        "print(a.numpy())"
      ],
      "execution_count": 0,
      "outputs": []
    },
    {
      "metadata": {
        "id": "Z2ojUQGy6Xqp",
        "colab_type": "code",
        "colab": {
          "base_uri": "https://localhost:8080/",
          "height": 374
        },
        "outputId": "b915a7b5-3c07-4be0-9ea0-c9c419bcf83c"
      },
      "cell_type": "code",
      "source": [
        "def fizzbuzz(max_num):\n",
        "  counter = tf.constant(0)\n",
        "  max_num = tf.convert_to_tensor(max_num)\n",
        "  for num in range(max_num.numpy()):\n",
        "    num = tf.constant(num)\n",
        "    if int(num%3) == 0 and int(num%5) == 0:\n",
        "      print(\"fizzbuzz\")\n",
        "    elif int(num % 3) == 0 :\n",
        "      print(\"fizz\")\n",
        "    elif int(num % 5) == 0:\n",
        "      print(\"buzz\")\n",
        "    else:\n",
        "      print(num)\n",
        "    counter +=1\n",
        "  return counter\n",
        "\n",
        "fizzbuzz(20)"
      ],
      "execution_count": 0,
      "outputs": [
        {
          "output_type": "stream",
          "text": [
            "fizzbuzz\n",
            "tf.Tensor(1, shape=(), dtype=int32)\n",
            "tf.Tensor(2, shape=(), dtype=int32)\n",
            "fizz\n",
            "tf.Tensor(4, shape=(), dtype=int32)\n",
            "buzz\n",
            "fizz\n",
            "tf.Tensor(7, shape=(), dtype=int32)\n",
            "tf.Tensor(8, shape=(), dtype=int32)\n",
            "fizz\n",
            "buzz\n",
            "tf.Tensor(11, shape=(), dtype=int32)\n",
            "fizz\n",
            "tf.Tensor(13, shape=(), dtype=int32)\n",
            "tf.Tensor(14, shape=(), dtype=int32)\n",
            "fizzbuzz\n",
            "tf.Tensor(16, shape=(), dtype=int32)\n",
            "tf.Tensor(17, shape=(), dtype=int32)\n",
            "fizz\n",
            "tf.Tensor(19, shape=(), dtype=int32)\n"
          ],
          "name": "stdout"
        },
        {
          "output_type": "execute_result",
          "data": {
            "text/plain": [
              "<tf.Tensor: id=216, shape=(), dtype=int32, numpy=20>"
            ]
          },
          "metadata": {
            "tags": []
          },
          "execution_count": 17
        }
      ]
    }
  ]
}