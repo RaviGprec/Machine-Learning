{
  "nbformat": 4,
  "nbformat_minor": 0,
  "metadata": {
    "colab": {
      "name": "Bag_of_word_example.ipynb",
      "version": "0.3.2",
      "provenance": [],
      "collapsed_sections": [],
      "include_colab_link": true
    },
    "kernelspec": {
      "name": "python3",
      "display_name": "Python 3"
    }
  },
  "cells": [
    {
      "cell_type": "markdown",
      "metadata": {
        "id": "view-in-github",
        "colab_type": "text"
      },
      "source": [
        "<a href=\"https://colab.research.google.com/github/RaviGprec/Machine-Learning/blob/master/Bag_of_word_example.ipynb\" target=\"_parent\"><img src=\"https://colab.research.google.com/assets/colab-badge.svg\" alt=\"Open In Colab\"/></a>"
      ]
    },
    {
      "metadata": {
        "id": "KaQxYlLw6oZ6",
        "colab_type": "text"
      },
      "cell_type": "markdown",
      "source": [
        "#                       **Bag of Words** **concept** \n",
        "\n",
        "    It's a matrix where every row is an observation and every column is unique feature which are derived from the text that we are going to analyse\n",
        "\n",
        "\n",
        "\n"
      ]
    },
    {
      "metadata": {
        "id": "ooMTtXJq7MX3",
        "colab_type": "code",
        "colab": {}
      },
      "cell_type": "code",
      "source": [
        "import numpy as np\n",
        "import pandas as pd\n",
        "from sklearn.feature_extraction.text import CountVectorizer"
      ],
      "execution_count": 0,
      "outputs": []
    },
    {
      "metadata": {
        "id": "_MjIZMS47jdu",
        "colab_type": "text"
      },
      "cell_type": "markdown",
      "source": [
        "## Let's create Text data"
      ]
    },
    {
      "metadata": {
        "id": "HIeyG_xs7gRd",
        "colab_type": "code",
        "colab": {}
      },
      "cell_type": "code",
      "source": [
        "df = np.array([\"I love my india!!\",\n",
        "              \"we are at opentext bangalore office\",\n",
        "              \"bahubali is India's biggest hit\"])"
      ],
      "execution_count": 0,
      "outputs": []
    },
    {
      "metadata": {
        "id": "h-FkG7Ja8FmT",
        "colab_type": "text"
      },
      "cell_type": "markdown",
      "source": [
        "## Creating Bags of words"
      ]
    },
    {
      "metadata": {
        "id": "Mt9Tc9yH8JnL",
        "colab_type": "code",
        "colab": {
          "base_uri": "https://localhost:8080/",
          "height": 68
        },
        "outputId": "1a745637-d1bf-4ccf-da73-f0f28066ac6d"
      },
      "cell_type": "code",
      "source": [
        "cv = CountVectorizer()\n",
        "bag_of_words = cv.fit_transform(df)\n",
        "bag_of_words.toarray()"
      ],
      "execution_count": 4,
      "outputs": [
        {
          "output_type": "execute_result",
          "data": {
            "text/plain": [
              "array([[0, 0, 0, 0, 0, 0, 1, 0, 1, 1, 0, 0, 0],\n",
              "       [1, 1, 0, 1, 0, 0, 0, 0, 0, 0, 1, 1, 1],\n",
              "       [0, 0, 1, 0, 1, 1, 1, 1, 0, 0, 0, 0, 0]], dtype=int64)"
            ]
          },
          "metadata": {
            "tags": []
          },
          "execution_count": 4
        }
      ]
    },
    {
      "metadata": {
        "id": "ceKwX4GH83-6",
        "colab_type": "text"
      },
      "cell_type": "markdown",
      "source": [
        "## Let's view the newly created Bag of words as a matrix"
      ]
    },
    {
      "metadata": {
        "id": "hP8fEHIz9AiL",
        "colab_type": "code",
        "colab": {
          "base_uri": "https://localhost:8080/",
          "height": 238
        },
        "outputId": "cdcaf4f0-1199-46c7-e879-5de875bd292b"
      },
      "cell_type": "code",
      "source": [
        "feature_names = cv.get_feature_names()\n",
        "feature_names"
      ],
      "execution_count": 5,
      "outputs": [
        {
          "output_type": "execute_result",
          "data": {
            "text/plain": [
              "['are',\n",
              " 'at',\n",
              " 'bahubali',\n",
              " 'bangalore',\n",
              " 'biggest',\n",
              " 'hit',\n",
              " 'india',\n",
              " 'is',\n",
              " 'love',\n",
              " 'my',\n",
              " 'office',\n",
              " 'opentext',\n",
              " 'we']"
            ]
          },
          "metadata": {
            "tags": []
          },
          "execution_count": 5
        }
      ]
    },
    {
      "metadata": {
        "id": "2J3X1GhC9VDz",
        "colab_type": "text"
      },
      "cell_type": "markdown",
      "source": [
        "## Viewing as a DataFrame"
      ]
    },
    {
      "metadata": {
        "id": "rv3hu3pP9aIK",
        "colab_type": "code",
        "colab": {
          "base_uri": "https://localhost:8080/",
          "height": 142
        },
        "outputId": "687f16ae-026f-45c2-d1c6-21d76cf3628a"
      },
      "cell_type": "code",
      "source": [
        "df_cleaned = pd.DataFrame(bag_of_words.toarray(), columns = feature_names)\n",
        "\n",
        "df_cleaned"
      ],
      "execution_count": 6,
      "outputs": [
        {
          "output_type": "execute_result",
          "data": {
            "text/html": [
              "<div>\n",
              "<style scoped>\n",
              "    .dataframe tbody tr th:only-of-type {\n",
              "        vertical-align: middle;\n",
              "    }\n",
              "\n",
              "    .dataframe tbody tr th {\n",
              "        vertical-align: top;\n",
              "    }\n",
              "\n",
              "    .dataframe thead th {\n",
              "        text-align: right;\n",
              "    }\n",
              "</style>\n",
              "<table border=\"1\" class=\"dataframe\">\n",
              "  <thead>\n",
              "    <tr style=\"text-align: right;\">\n",
              "      <th></th>\n",
              "      <th>are</th>\n",
              "      <th>at</th>\n",
              "      <th>bahubali</th>\n",
              "      <th>bangalore</th>\n",
              "      <th>biggest</th>\n",
              "      <th>hit</th>\n",
              "      <th>india</th>\n",
              "      <th>is</th>\n",
              "      <th>love</th>\n",
              "      <th>my</th>\n",
              "      <th>office</th>\n",
              "      <th>opentext</th>\n",
              "      <th>we</th>\n",
              "    </tr>\n",
              "  </thead>\n",
              "  <tbody>\n",
              "    <tr>\n",
              "      <th>0</th>\n",
              "      <td>0</td>\n",
              "      <td>0</td>\n",
              "      <td>0</td>\n",
              "      <td>0</td>\n",
              "      <td>0</td>\n",
              "      <td>0</td>\n",
              "      <td>1</td>\n",
              "      <td>0</td>\n",
              "      <td>1</td>\n",
              "      <td>1</td>\n",
              "      <td>0</td>\n",
              "      <td>0</td>\n",
              "      <td>0</td>\n",
              "    </tr>\n",
              "    <tr>\n",
              "      <th>1</th>\n",
              "      <td>1</td>\n",
              "      <td>1</td>\n",
              "      <td>0</td>\n",
              "      <td>1</td>\n",
              "      <td>0</td>\n",
              "      <td>0</td>\n",
              "      <td>0</td>\n",
              "      <td>0</td>\n",
              "      <td>0</td>\n",
              "      <td>0</td>\n",
              "      <td>1</td>\n",
              "      <td>1</td>\n",
              "      <td>1</td>\n",
              "    </tr>\n",
              "    <tr>\n",
              "      <th>2</th>\n",
              "      <td>0</td>\n",
              "      <td>0</td>\n",
              "      <td>1</td>\n",
              "      <td>0</td>\n",
              "      <td>1</td>\n",
              "      <td>1</td>\n",
              "      <td>1</td>\n",
              "      <td>1</td>\n",
              "      <td>0</td>\n",
              "      <td>0</td>\n",
              "      <td>0</td>\n",
              "      <td>0</td>\n",
              "      <td>0</td>\n",
              "    </tr>\n",
              "  </tbody>\n",
              "</table>\n",
              "</div>"
            ],
            "text/plain": [
              "   are  at  bahubali  bangalore  biggest  hit  india  is  love  my  office  \\\n",
              "0    0   0         0          0        0    0      1   0     1   1       0   \n",
              "1    1   1         0          1        0    0      0   0     0   0       1   \n",
              "2    0   0         1          0        1    1      1   1     0   0       0   \n",
              "\n",
              "   opentext  we  \n",
              "0         0   0  \n",
              "1         1   1  \n",
              "2         0   0  "
            ]
          },
          "metadata": {
            "tags": []
          },
          "execution_count": 6
        }
      ]
    },
    {
      "metadata": {
        "id": "zdeBgt50_hDL",
        "colab_type": "code",
        "colab": {}
      },
      "cell_type": "code",
      "source": [
        "import string\n",
        "string."
      ],
      "execution_count": 0,
      "outputs": []
    }
  ]
}